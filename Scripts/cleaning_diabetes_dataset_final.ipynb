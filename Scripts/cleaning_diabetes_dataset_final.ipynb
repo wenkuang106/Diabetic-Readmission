{
  "nbformat": 4,
  "nbformat_minor": 0,
  "metadata": {
    "colab": {
      "provenance": [],
      "collapsed_sections": [
        "rycnVmYjGHR0",
        "mWwiJZBc9km4",
        "38i3sRvOJij0"
      ]
    },
    "kernelspec": {
      "name": "python3",
      "display_name": "Python 3"
    },
    "language_info": {
      "name": "python"
    }
  },
  "cells": [
    {
      "cell_type": "code",
      "execution_count": null,
      "metadata": {
        "id": "Q7-eAK1lFJt1"
      },
      "outputs": [],
      "source": [
        "  import pandas as pd\n",
        "import numpy as np"
      ]
    },
    {
      "cell_type": "code",
      "source": [
        "df = pd.read_csv('https://raw.githubusercontent.com/slow312/SBU-AHI/main/HHA-550/diabetes-data-project/diabetic_data.csv?token=GHSAT0AAAAAACB3LCFGVVTKSN55VXMPQAY2ZCH4ZSQ')"
      ],
      "metadata": {
        "id": "LVAn5N7iFUXk"
      },
      "execution_count": null,
      "outputs": []
    },
    {
      "cell_type": "markdown",
      "source": [
        "# Preview Data"
      ],
      "metadata": {
        "id": "rycnVmYjGHR0"
      }
    },
    {
      "cell_type": "code",
      "source": [
        "df.head()"
      ],
      "metadata": {
        "id": "mcHYvpWlFfPM",
        "colab": {
          "base_uri": "https://localhost:8080/",
          "height": 404
        },
        "outputId": "e68f9405-8700-44e2-f11c-95328807aa0a"
      },
      "execution_count": null,
      "outputs": [
        {
          "output_type": "execute_result",
          "data": {
            "text/plain": [
              "   encounter_id  patient_nbr             race  gender      age weight  \\\n",
              "0       2278392      8222157        Caucasian  Female   [0-10)    NaN   \n",
              "1        149190     55629189        Caucasian  Female  [10-20)    NaN   \n",
              "2         64410     86047875  AfricanAmerican  Female  [20-30)    NaN   \n",
              "3        500364     82442376        Caucasian    Male  [30-40)    NaN   \n",
              "4         16680     42519267        Caucasian    Male  [40-50)    NaN   \n",
              "\n",
              "  admission_type_id discharge_disposition_id admission_source_id  \\\n",
              "0               NaN                      NaN  Physician Referral   \n",
              "1         Emergency                     home      Emergency Room   \n",
              "2         Emergency                     home      Emergency Room   \n",
              "3         Emergency                     home      Emergency Room   \n",
              "4         Emergency                     home      Emergency Room   \n",
              "\n",
              "   time_in_hospital  ... citoglipton insulin  glyburide-metformin  \\\n",
              "0                 1  ...          No      No                   No   \n",
              "1                 3  ...          No      Up                   No   \n",
              "2                 2  ...          No      No                   No   \n",
              "3                 2  ...          No      Up                   No   \n",
              "4                 1  ...          No  Steady                   No   \n",
              "\n",
              "   glipizide-metformin  glimepiride-pioglitazone  metformin-rosiglitazone  \\\n",
              "0                   No                        No                       No   \n",
              "1                   No                        No                       No   \n",
              "2                   No                        No                       No   \n",
              "3                   No                        No                       No   \n",
              "4                   No                        No                       No   \n",
              "\n",
              "   metformin-pioglitazone  change diabetesMed readmitted  \n",
              "0                      No      No          No         NO  \n",
              "1                      No  change         Yes         NO  \n",
              "2                      No      No         Yes         NO  \n",
              "3                      No  change         Yes         NO  \n",
              "4                      No  change         Yes         NO  \n",
              "\n",
              "[5 rows x 50 columns]"
            ],
            "text/html": [
              "\n",
              "  <div id=\"df-36f9a2ae-d1bc-4d93-92d3-9f4a6350d707\">\n",
              "    <div class=\"colab-df-container\">\n",
              "      <div>\n",
              "<style scoped>\n",
              "    .dataframe tbody tr th:only-of-type {\n",
              "        vertical-align: middle;\n",
              "    }\n",
              "\n",
              "    .dataframe tbody tr th {\n",
              "        vertical-align: top;\n",
              "    }\n",
              "\n",
              "    .dataframe thead th {\n",
              "        text-align: right;\n",
              "    }\n",
              "</style>\n",
              "<table border=\"1\" class=\"dataframe\">\n",
              "  <thead>\n",
              "    <tr style=\"text-align: right;\">\n",
              "      <th></th>\n",
              "      <th>encounter_id</th>\n",
              "      <th>patient_nbr</th>\n",
              "      <th>race</th>\n",
              "      <th>gender</th>\n",
              "      <th>age</th>\n",
              "      <th>weight</th>\n",
              "      <th>admission_type_id</th>\n",
              "      <th>discharge_disposition_id</th>\n",
              "      <th>admission_source_id</th>\n",
              "      <th>time_in_hospital</th>\n",
              "      <th>...</th>\n",
              "      <th>citoglipton</th>\n",
              "      <th>insulin</th>\n",
              "      <th>glyburide-metformin</th>\n",
              "      <th>glipizide-metformin</th>\n",
              "      <th>glimepiride-pioglitazone</th>\n",
              "      <th>metformin-rosiglitazone</th>\n",
              "      <th>metformin-pioglitazone</th>\n",
              "      <th>change</th>\n",
              "      <th>diabetesMed</th>\n",
              "      <th>readmitted</th>\n",
              "    </tr>\n",
              "  </thead>\n",
              "  <tbody>\n",
              "    <tr>\n",
              "      <th>0</th>\n",
              "      <td>2278392</td>\n",
              "      <td>8222157</td>\n",
              "      <td>Caucasian</td>\n",
              "      <td>Female</td>\n",
              "      <td>[0-10)</td>\n",
              "      <td>NaN</td>\n",
              "      <td>NaN</td>\n",
              "      <td>NaN</td>\n",
              "      <td>Physician Referral</td>\n",
              "      <td>1</td>\n",
              "      <td>...</td>\n",
              "      <td>No</td>\n",
              "      <td>No</td>\n",
              "      <td>No</td>\n",
              "      <td>No</td>\n",
              "      <td>No</td>\n",
              "      <td>No</td>\n",
              "      <td>No</td>\n",
              "      <td>No</td>\n",
              "      <td>No</td>\n",
              "      <td>NO</td>\n",
              "    </tr>\n",
              "    <tr>\n",
              "      <th>1</th>\n",
              "      <td>149190</td>\n",
              "      <td>55629189</td>\n",
              "      <td>Caucasian</td>\n",
              "      <td>Female</td>\n",
              "      <td>[10-20)</td>\n",
              "      <td>NaN</td>\n",
              "      <td>Emergency</td>\n",
              "      <td>home</td>\n",
              "      <td>Emergency Room</td>\n",
              "      <td>3</td>\n",
              "      <td>...</td>\n",
              "      <td>No</td>\n",
              "      <td>Up</td>\n",
              "      <td>No</td>\n",
              "      <td>No</td>\n",
              "      <td>No</td>\n",
              "      <td>No</td>\n",
              "      <td>No</td>\n",
              "      <td>change</td>\n",
              "      <td>Yes</td>\n",
              "      <td>NO</td>\n",
              "    </tr>\n",
              "    <tr>\n",
              "      <th>2</th>\n",
              "      <td>64410</td>\n",
              "      <td>86047875</td>\n",
              "      <td>AfricanAmerican</td>\n",
              "      <td>Female</td>\n",
              "      <td>[20-30)</td>\n",
              "      <td>NaN</td>\n",
              "      <td>Emergency</td>\n",
              "      <td>home</td>\n",
              "      <td>Emergency Room</td>\n",
              "      <td>2</td>\n",
              "      <td>...</td>\n",
              "      <td>No</td>\n",
              "      <td>No</td>\n",
              "      <td>No</td>\n",
              "      <td>No</td>\n",
              "      <td>No</td>\n",
              "      <td>No</td>\n",
              "      <td>No</td>\n",
              "      <td>No</td>\n",
              "      <td>Yes</td>\n",
              "      <td>NO</td>\n",
              "    </tr>\n",
              "    <tr>\n",
              "      <th>3</th>\n",
              "      <td>500364</td>\n",
              "      <td>82442376</td>\n",
              "      <td>Caucasian</td>\n",
              "      <td>Male</td>\n",
              "      <td>[30-40)</td>\n",
              "      <td>NaN</td>\n",
              "      <td>Emergency</td>\n",
              "      <td>home</td>\n",
              "      <td>Emergency Room</td>\n",
              "      <td>2</td>\n",
              "      <td>...</td>\n",
              "      <td>No</td>\n",
              "      <td>Up</td>\n",
              "      <td>No</td>\n",
              "      <td>No</td>\n",
              "      <td>No</td>\n",
              "      <td>No</td>\n",
              "      <td>No</td>\n",
              "      <td>change</td>\n",
              "      <td>Yes</td>\n",
              "      <td>NO</td>\n",
              "    </tr>\n",
              "    <tr>\n",
              "      <th>4</th>\n",
              "      <td>16680</td>\n",
              "      <td>42519267</td>\n",
              "      <td>Caucasian</td>\n",
              "      <td>Male</td>\n",
              "      <td>[40-50)</td>\n",
              "      <td>NaN</td>\n",
              "      <td>Emergency</td>\n",
              "      <td>home</td>\n",
              "      <td>Emergency Room</td>\n",
              "      <td>1</td>\n",
              "      <td>...</td>\n",
              "      <td>No</td>\n",
              "      <td>Steady</td>\n",
              "      <td>No</td>\n",
              "      <td>No</td>\n",
              "      <td>No</td>\n",
              "      <td>No</td>\n",
              "      <td>No</td>\n",
              "      <td>change</td>\n",
              "      <td>Yes</td>\n",
              "      <td>NO</td>\n",
              "    </tr>\n",
              "  </tbody>\n",
              "</table>\n",
              "<p>5 rows × 50 columns</p>\n",
              "</div>\n",
              "      <button class=\"colab-df-convert\" onclick=\"convertToInteractive('df-36f9a2ae-d1bc-4d93-92d3-9f4a6350d707')\"\n",
              "              title=\"Convert this dataframe to an interactive table.\"\n",
              "              style=\"display:none;\">\n",
              "        \n",
              "  <svg xmlns=\"http://www.w3.org/2000/svg\" height=\"24px\"viewBox=\"0 0 24 24\"\n",
              "       width=\"24px\">\n",
              "    <path d=\"M0 0h24v24H0V0z\" fill=\"none\"/>\n",
              "    <path d=\"M18.56 5.44l.94 2.06.94-2.06 2.06-.94-2.06-.94-.94-2.06-.94 2.06-2.06.94zm-11 1L8.5 8.5l.94-2.06 2.06-.94-2.06-.94L8.5 2.5l-.94 2.06-2.06.94zm10 10l.94 2.06.94-2.06 2.06-.94-2.06-.94-.94-2.06-.94 2.06-2.06.94z\"/><path d=\"M17.41 7.96l-1.37-1.37c-.4-.4-.92-.59-1.43-.59-.52 0-1.04.2-1.43.59L10.3 9.45l-7.72 7.72c-.78.78-.78 2.05 0 2.83L4 21.41c.39.39.9.59 1.41.59.51 0 1.02-.2 1.41-.59l7.78-7.78 2.81-2.81c.8-.78.8-2.07 0-2.86zM5.41 20L4 18.59l7.72-7.72 1.47 1.35L5.41 20z\"/>\n",
              "  </svg>\n",
              "      </button>\n",
              "      \n",
              "  <style>\n",
              "    .colab-df-container {\n",
              "      display:flex;\n",
              "      flex-wrap:wrap;\n",
              "      gap: 12px;\n",
              "    }\n",
              "\n",
              "    .colab-df-convert {\n",
              "      background-color: #E8F0FE;\n",
              "      border: none;\n",
              "      border-radius: 50%;\n",
              "      cursor: pointer;\n",
              "      display: none;\n",
              "      fill: #1967D2;\n",
              "      height: 32px;\n",
              "      padding: 0 0 0 0;\n",
              "      width: 32px;\n",
              "    }\n",
              "\n",
              "    .colab-df-convert:hover {\n",
              "      background-color: #E2EBFA;\n",
              "      box-shadow: 0px 1px 2px rgba(60, 64, 67, 0.3), 0px 1px 3px 1px rgba(60, 64, 67, 0.15);\n",
              "      fill: #174EA6;\n",
              "    }\n",
              "\n",
              "    [theme=dark] .colab-df-convert {\n",
              "      background-color: #3B4455;\n",
              "      fill: #D2E3FC;\n",
              "    }\n",
              "\n",
              "    [theme=dark] .colab-df-convert:hover {\n",
              "      background-color: #434B5C;\n",
              "      box-shadow: 0px 1px 3px 1px rgba(0, 0, 0, 0.15);\n",
              "      filter: drop-shadow(0px 1px 2px rgba(0, 0, 0, 0.3));\n",
              "      fill: #FFFFFF;\n",
              "    }\n",
              "  </style>\n",
              "\n",
              "      <script>\n",
              "        const buttonEl =\n",
              "          document.querySelector('#df-36f9a2ae-d1bc-4d93-92d3-9f4a6350d707 button.colab-df-convert');\n",
              "        buttonEl.style.display =\n",
              "          google.colab.kernel.accessAllowed ? 'block' : 'none';\n",
              "\n",
              "        async function convertToInteractive(key) {\n",
              "          const element = document.querySelector('#df-36f9a2ae-d1bc-4d93-92d3-9f4a6350d707');\n",
              "          const dataTable =\n",
              "            await google.colab.kernel.invokeFunction('convertToInteractive',\n",
              "                                                     [key], {});\n",
              "          if (!dataTable) return;\n",
              "\n",
              "          const docLinkHtml = 'Like what you see? Visit the ' +\n",
              "            '<a target=\"_blank\" href=https://colab.research.google.com/notebooks/data_table.ipynb>data table notebook</a>'\n",
              "            + ' to learn more about interactive tables.';\n",
              "          element.innerHTML = '';\n",
              "          dataTable['output_type'] = 'display_data';\n",
              "          await google.colab.output.renderOutput(dataTable, element);\n",
              "          const docLink = document.createElement('div');\n",
              "          docLink.innerHTML = docLinkHtml;\n",
              "          element.appendChild(docLink);\n",
              "        }\n",
              "      </script>\n",
              "    </div>\n",
              "  </div>\n",
              "  "
            ]
          },
          "metadata": {},
          "execution_count": 24
        }
      ]
    },
    {
      "cell_type": "code",
      "source": [
        "df.columns"
      ],
      "metadata": {
        "id": "BWjyiF_yFjCd",
        "colab": {
          "base_uri": "https://localhost:8080/"
        },
        "outputId": "562ec4c1-e4fe-46d3-8d3c-baf6ab884f0a"
      },
      "execution_count": null,
      "outputs": [
        {
          "output_type": "execute_result",
          "data": {
            "text/plain": [
              "Index(['encounter_id', 'patient_nbr', 'race', 'gender', 'age', 'weight',\n",
              "       'admission_type_id', 'discharge_disposition_id', 'admission_source_id',\n",
              "       'time_in_hospital', 'payer_code', 'medical_specialty',\n",
              "       'num_lab_procedures', 'num_procedures', 'num_medications',\n",
              "       'number_outpatient', 'number_emergency', 'number_inpatient', 'diag_1',\n",
              "       'diag_2', 'diag_3', 'number_diagnoses', 'max_glu_serum', 'A1Cresult',\n",
              "       'metformin', 'repaglinide', 'nateglinide', 'chlorpropamide',\n",
              "       'glimepiride', 'acetohexamide', 'glipizide', 'glyburide', 'tolbutamide',\n",
              "       'pioglitazone', 'rosiglitazone', 'acarbose', 'miglitol', 'troglitazone',\n",
              "       'tolazamide', 'examide', 'citoglipton', 'insulin',\n",
              "       'glyburide-metformin', 'glipizide-metformin',\n",
              "       'glimepiride-pioglitazone', 'metformin-rosiglitazone',\n",
              "       'metformin-pioglitazone', 'change', 'diabetesMed', 'readmitted'],\n",
              "      dtype='object')"
            ]
          },
          "metadata": {},
          "execution_count": 25
        }
      ]
    },
    {
      "cell_type": "code",
      "source": [
        "df.info()"
      ],
      "metadata": {
        "id": "Cl4YMfYTF20u",
        "colab": {
          "base_uri": "https://localhost:8080/"
        },
        "outputId": "871bd4bf-03a3-4ff1-e749-b6d55bcbecfa"
      },
      "execution_count": null,
      "outputs": [
        {
          "output_type": "stream",
          "name": "stdout",
          "text": [
            "<class 'pandas.core.frame.DataFrame'>\n",
            "RangeIndex: 101766 entries, 0 to 101765\n",
            "Data columns (total 50 columns):\n",
            " #   Column                    Non-Null Count   Dtype \n",
            "---  ------                    --------------   ----- \n",
            " 0   encounter_id              101766 non-null  int64 \n",
            " 1   patient_nbr               101766 non-null  int64 \n",
            " 2   race                      99493 non-null   object\n",
            " 3   gender                    101763 non-null  object\n",
            " 4   age                       101766 non-null  object\n",
            " 5   weight                    3197 non-null    object\n",
            " 6   admission_type_id         91370 non-null   object\n",
            " 7   discharge_disposition_id  97086 non-null   object\n",
            " 8   admission_source_id       94699 non-null   object\n",
            " 9   time_in_hospital          101766 non-null  int64 \n",
            " 10  payer_code                61510 non-null   object\n",
            " 11  medical_specialty         51804 non-null   object\n",
            " 12  num_lab_procedures        101766 non-null  int64 \n",
            " 13  num_procedures            101766 non-null  int64 \n",
            " 14  num_medications           101766 non-null  int64 \n",
            " 15  number_outpatient         101766 non-null  int64 \n",
            " 16  number_emergency          101766 non-null  int64 \n",
            " 17  number_inpatient          101766 non-null  int64 \n",
            " 18  diag_1                    101745 non-null  object\n",
            " 19  diag_2                    101408 non-null  object\n",
            " 20  diag_3                    100343 non-null  object\n",
            " 21  number_diagnoses          101766 non-null  int64 \n",
            " 22  max_glu_serum             101766 non-null  object\n",
            " 23  A1Cresult                 101766 non-null  object\n",
            " 24  metformin                 101766 non-null  object\n",
            " 25  repaglinide               101766 non-null  object\n",
            " 26  nateglinide               101766 non-null  object\n",
            " 27  chlorpropamide            101766 non-null  object\n",
            " 28  glimepiride               101766 non-null  object\n",
            " 29  acetohexamide             101766 non-null  object\n",
            " 30  glipizide                 101766 non-null  object\n",
            " 31  glyburide                 101766 non-null  object\n",
            " 32  tolbutamide               101766 non-null  object\n",
            " 33  pioglitazone              101766 non-null  object\n",
            " 34  rosiglitazone             101766 non-null  object\n",
            " 35  acarbose                  101766 non-null  object\n",
            " 36  miglitol                  101766 non-null  object\n",
            " 37  troglitazone              101766 non-null  object\n",
            " 38  tolazamide                101766 non-null  object\n",
            " 39  examide                   101766 non-null  object\n",
            " 40  citoglipton               101766 non-null  object\n",
            " 41  insulin                   101766 non-null  object\n",
            " 42  glyburide-metformin       101766 non-null  object\n",
            " 43  glipizide-metformin       101766 non-null  object\n",
            " 44  glimepiride-pioglitazone  101766 non-null  object\n",
            " 45  metformin-rosiglitazone   101766 non-null  object\n",
            " 46  metformin-pioglitazone    101766 non-null  object\n",
            " 47  change                    101766 non-null  object\n",
            " 48  diabetesMed               101766 non-null  object\n",
            " 49  readmitted                101766 non-null  object\n",
            "dtypes: int64(10), object(40)\n",
            "memory usage: 38.8+ MB\n"
          ]
        }
      ]
    },
    {
      "cell_type": "code",
      "source": [
        "# checking the unique values in each column\n",
        "col = df.columns\n",
        "\n",
        "for x in col:\n",
        "  print(x, df[x].unique())"
      ],
      "metadata": {
        "colab": {
          "base_uri": "https://localhost:8080/"
        },
        "id": "6-5wt_almZLP",
        "outputId": "a821716f-cdde-4e45-8742-ffb878de3f5a"
      },
      "execution_count": null,
      "outputs": [
        {
          "output_type": "stream",
          "name": "stdout",
          "text": [
            "encounter_id [  2278392    149190     64410 ... 443854148 443857166 443867222]\n",
            "patient_nbr [  8222157  55629189  86047875 ... 140199494 120975314 175429310]\n",
            "race ['Caucasian' 'AfricanAmerican' nan 'Other' 'Asian' 'Hispanic']\n",
            "gender ['Female' 'Male' nan]\n",
            "age ['[0-10)' '[10-20)' '[20-30)' '[30-40)' '[40-50)' '[50-60)' '[60-70)'\n",
            " '[70-80)' '[80-90)' '[90-100)']\n",
            "weight [nan '[75-100)' '[50-75)' '[0-25)' '[100-125)' '[25-50)' '[125-150)'\n",
            " '[175-200)' '[150-175)' '>200']\n",
            "admission_type_id [nan 'Emergency' 'Urgent' 'Elective' 'Newborn' 'Trauma Center']\n",
            "discharge_disposition_id [nan 'home' 'acute_care' 'expired' 'left_AMA' 'hospice'\n",
            " 'other_healthcare_facility']\n",
            "admission_source_id ['Physician Referral' 'Emergency Room' 'Clinic Referral'\n",
            " 'Transfer from a hospital'\n",
            " 'Transfer from a Skilled Nursing Facility (SNF)'\n",
            " 'Transfer from another health care facility' nan 'HMO Referral'\n",
            " 'Court/Law Enforcement' 'childbirth'\n",
            " 'Transfer from critical access hospital'\n",
            " 'Transfer from hospital inpt/same fac reslt in a sep claim'\n",
            " 'Transfer from Ambulatory Surgery Center']\n",
            "time_in_hospital [ 1  3  2  4  5 13 12  9  7 10  6 11  8 14]\n",
            "payer_code [nan 'MC' 'MD' 'HM' 'UN' 'BC' 'SP' 'CP' 'SI' 'DM' 'CM' 'CH' 'PO' 'WC' 'OT'\n",
            " 'OG' 'MP' 'FR']\n",
            "medical_specialty ['pediatrics' nan 'primary_care' 'cardiology' 'surgery' 'orthopedics'\n",
            " 'Gastroenterology' 'Nephrology' 'psychiatry' 'Emergency/Trauma'\n",
            " 'Pulmonology' 'ob_gyn' 'oncology' 'Otolaryngology' 'endocrinology'\n",
            " 'Urology' 'neurology' 'anesthesiology' 'radiology' 'Podiatry'\n",
            " 'Ophthalmology' 'PhysicalMedicineandRehabilitation' 'InfectiousDiseases'\n",
            " 'Rheumatology' 'AllergyandImmunology' 'Dentistry' 'Osteopath'\n",
            " 'Hematology' 'Proctology' 'Pathology' 'Dermatology' 'Speech'\n",
            " 'Hospitalist' 'OutreachServices' 'DCPTEAM']\n",
            "num_lab_procedures [ 41  59  11  44  51  31  70  73  68  33  47  62  60  55  49  75  45  29\n",
            "  35  42  66  36  19  64  25  53  52  87  27  37  46  28  48  72  10   2\n",
            "  65  67  40  54  58  57  43  32  83  34  39  69  38  56  22  96  78  61\n",
            "  88  50   1  18  82   9  63  24  71  77  81  76  90  93   3 103  13  80\n",
            "  85  16  15  12  30  23  17  21  79  26   5  95  97  84  14  74 105  86\n",
            "  98  20   6  94   8 102 100   7  89  91  92   4 101  99 114 113 111 129\n",
            " 107 108 106 104 109 120 132 121 126 118]\n",
            "num_procedures [0 5 1 6 2 3 4]\n",
            "num_medications [ 1 18 13 16  8 21 12 28 17 11 15 31  2 23 19  7 20 14 10 22  9 27 25  4\n",
            " 32  6 30 26 24 33  5 39  3 29 61 40 46 41 36 34 35 50 43 42 37 51 38 45\n",
            " 54 52 49 62 55 47 44 53 48 57 59 56 60 63 58 70 67 64 69 65 68 66 81 79\n",
            " 75 72 74]\n",
            "number_outpatient [ 0  2  1  5  7  9  3  8  4 12 11  6 20 15 10 13 14 16 21 35 17 29 36 18\n",
            " 19 27 22 24 42 39 34 26 33 25 23 28 37 38 40]\n",
            "number_emergency [ 0  1  2  4  3  9  5  7  6  8 22 25 10 13 42 16 11 28 15 14 18 12 21 20\n",
            " 19 46 76 37 64 63 54 24 29]\n",
            "number_inpatient [ 0  1  2  3  6  5  4  7  8  9 15 10 11 14 12 13 17 16 21 18 19]\n",
            "diag_1 ['ENDOCRINE, NUTRITIONAL AND METABOLIC DISEASES, AND IMMUNITY DISORDERS'\n",
            " 'COMPLICATIONS OF PREGNANCY, CHILDBIRTH, AND THE PUERPERIUM'\n",
            " 'INFECTIOUS AND PARASITIC DISEASES' 'NEOPLASMS'\n",
            " 'DISEASES OF THE CIRCULATORY SYSTEM' 'DISEASES OF THE RESPIRATORY SYSTEM'\n",
            " 'INJURY AND POISONING' 'DISEASES OF THE SKIN AND SUBCUTANEOUS TISSUE'\n",
            " 'DISEASES OF THE MUSCULOSKELETAL SYSTEM AND CONNECTIVE TISSUE'\n",
            " 'DISEASES OF THE DIGESTIVE SYSTEM'\n",
            " 'SUPPLEMENTARY CLASSIFICATION OF FACTORS INFLUENCING HEALTH STATUS AND CONTACT WITH HEALTH SERVICES'\n",
            " 'SYMPTOMS, SIGNS, AND ILL-DEFINED CONDITIONS'\n",
            " 'DISEASES OF THE GENITOURINARY SYSTEM'\n",
            " 'MENTAL, BEHAVIORAL AND NEURODEVELOPMENTAL DISORDERS'\n",
            " 'DISEASES OF THE NERVOUS SYSTEM AND SENSE ORGANS'\n",
            " 'DISEASES OF THE BLOOD AND BLOOD-FORMING ORGANS' nan\n",
            " 'CONGENITAL ANOMALIES'\n",
            " 'SUPPLEMENTARYCLASSIFICATION OF EXTERNAL CAUSES OF INJURY AND POISONING']\n",
            "diag_2 [nan\n",
            " 'ENDOCRINE, NUTRITIONAL AND METABOLIC DISEASES, AND IMMUNITY DISORDERS'\n",
            " 'NEOPLASMS' 'DISEASES OF THE CIRCULATORY SYSTEM'\n",
            " 'DISEASES OF THE RESPIRATORY SYSTEM'\n",
            " 'DISEASES OF THE BLOOD AND BLOOD-FORMING ORGANS' 'INJURY AND POISONING'\n",
            " 'DISEASES OF THE MUSCULOSKELETAL SYSTEM AND CONNECTIVE TISSUE'\n",
            " 'DISEASES OF THE GENITOURINARY SYSTEM'\n",
            " 'INFECTIOUS AND PARASITIC DISEASES' 'DISEASES OF THE DIGESTIVE SYSTEM'\n",
            " 'DISEASES OF THE SKIN AND SUBCUTANEOUS TISSUE'\n",
            " 'SUPPLEMENTARY CLASSIFICATION OF FACTORS INFLUENCING HEALTH STATUS AND CONTACT WITH HEALTH SERVICES'\n",
            " 'DISEASES OF THE NERVOUS SYSTEM AND SENSE ORGANS'\n",
            " 'SYMPTOMS, SIGNS, AND ILL-DEFINED CONDITIONS'\n",
            " 'MENTAL, BEHAVIORAL AND NEURODEVELOPMENTAL DISORDERS'\n",
            " 'COMPLICATIONS OF PREGNANCY, CHILDBIRTH, AND THE PUERPERIUM'\n",
            " 'CONGENITAL ANOMALIES'\n",
            " 'SUPPLEMENTARYCLASSIFICATION OF EXTERNAL CAUSES OF INJURY AND POISONING']\n",
            "diag_3 [nan\n",
            " 'ENDOCRINE, NUTRITIONAL AND METABOLIC DISEASES, AND IMMUNITY DISORDERS'\n",
            " 'SUPPLEMENTARY CLASSIFICATION OF FACTORS INFLUENCING HEALTH STATUS AND CONTACT WITH HEALTH SERVICES'\n",
            " 'DISEASES OF THE CIRCULATORY SYSTEM' 'INFECTIOUS AND PARASITIC DISEASES'\n",
            " 'DISEASES OF THE RESPIRATORY SYSTEM' 'INJURY AND POISONING' 'NEOPLASMS'\n",
            " 'DISEASES OF THE GENITOURINARY SYSTEM'\n",
            " 'DISEASES OF THE MUSCULOSKELETAL SYSTEM AND CONNECTIVE TISSUE'\n",
            " 'SYMPTOMS, SIGNS, AND ILL-DEFINED CONDITIONS'\n",
            " 'DISEASES OF THE DIGESTIVE SYSTEM'\n",
            " 'DISEASES OF THE SKIN AND SUBCUTANEOUS TISSUE'\n",
            " 'MENTAL, BEHAVIORAL AND NEURODEVELOPMENTAL DISORDERS'\n",
            " 'CONGENITAL ANOMALIES'\n",
            " 'SUPPLEMENTARYCLASSIFICATION OF EXTERNAL CAUSES OF INJURY AND POISONING'\n",
            " 'DISEASES OF THE NERVOUS SYSTEM AND SENSE ORGANS'\n",
            " 'COMPLICATIONS OF PREGNANCY, CHILDBIRTH, AND THE PUERPERIUM'\n",
            " 'DISEASES OF THE BLOOD AND BLOOD-FORMING ORGANS']\n",
            "number_diagnoses [ 1  9  6  7  5  8  3  4  2 16 12 13 15 10 11 14]\n",
            "max_glu_serum ['None' '>300' 'Norm' '>200']\n",
            "A1Cresult ['None' '>7' '>8' 'Norm']\n",
            "metformin ['No' 'Steady' 'Up' 'Down']\n",
            "repaglinide ['No' 'Up' 'Steady' 'Down']\n",
            "nateglinide ['No' 'Steady' 'Down' 'Up']\n",
            "chlorpropamide ['No' 'Steady' 'Down' 'Up']\n",
            "glimepiride ['No' 'Steady' 'Down' 'Up']\n",
            "acetohexamide ['No' 'Steady']\n",
            "glipizide ['No' 'Steady' 'Up' 'Down']\n",
            "glyburide ['No' 'Steady' 'Up' 'Down']\n",
            "tolbutamide ['No' 'Steady']\n",
            "pioglitazone ['No' 'Steady' 'Up' 'Down']\n",
            "rosiglitazone ['No' 'Steady' 'Up' 'Down']\n",
            "acarbose ['No' 'Steady' 'Up' 'Down']\n",
            "miglitol ['No' 'Steady' 'Down' 'Up']\n",
            "troglitazone ['No' 'Steady']\n",
            "tolazamide ['No' 'Steady' 'Up']\n",
            "examide ['No']\n",
            "citoglipton ['No']\n",
            "insulin ['No' 'Up' 'Steady' 'Down']\n",
            "glyburide-metformin ['No' 'Steady' 'Down' 'Up']\n",
            "glipizide-metformin ['No' 'Steady']\n",
            "glimepiride-pioglitazone ['No' 'Steady']\n",
            "metformin-rosiglitazone ['No' 'Steady']\n",
            "metformin-pioglitazone ['No' 'Steady']\n",
            "change ['No' 'change']\n",
            "diabetesMed ['No' 'Yes']\n",
            "readmitted ['NO' 'YES']\n"
          ]
        }
      ]
    },
    {
      "cell_type": "markdown",
      "source": [
        "# Cleaning data"
      ],
      "metadata": {
        "id": "c3cOypn7HjMj"
      }
    },
    {
      "cell_type": "markdown",
      "source": [
        "## Replacing encoded null values (i.e. \"?\", \"Not Mapped\") with actual null values (better for exploratory analysis)"
      ],
      "metadata": {
        "id": "Isc7acNsTPyr"
      }
    },
    {
      "cell_type": "code",
      "source": [
        "df['admission_type_id'] = df['admission_type_id'].astype(str)\n",
        "df = df.replace({'admission_type_id':{'5':np.nan, '6':np.nan,'8':np.nan}})\n",
        "\n",
        "df['discharge_disposition_id'] = df['discharge_disposition_id'].astype(str)\n",
        "df = df.replace({'discharge_disposition_id':{'18':np.nan, '25':np.nan,'26':np.nan}})\n",
        "\n",
        "df['admission_source_id'] = df['admission_source_id'].astype(str)\n",
        "df = df.replace({'admission_source_id':{'9':np.nan, '15':np.nan,'17':np.nan,'20':np.nan,'21':np.nan}})\n",
        "\n",
        "df = df.replace({'medical_specialty':{'?':np.nan, 'PhysicianNotFound':np.nan,'Resident':np.nan}})\n"
      ],
      "metadata": {
        "id": "0zk25QDVR-l1"
      },
      "execution_count": null,
      "outputs": []
    },
    {
      "cell_type": "code",
      "source": [
        "df['admission_source_id'].unique()"
      ],
      "metadata": {
        "colab": {
          "base_uri": "https://localhost:8080/"
        },
        "id": "Z4yhF3PSRxNQ",
        "outputId": "9c968396-1f0d-49a3-c925-f36f0d6c3e09"
      },
      "execution_count": null,
      "outputs": [
        {
          "output_type": "execute_result",
          "data": {
            "text/plain": [
              "array(['1', '7', '2', '4', '5', '6', nan, '3', '8', '14', '10', '22',\n",
              "       '11', '25', '13'], dtype=object)"
            ]
          },
          "metadata": {},
          "execution_count": 4
        }
      ]
    },
    {
      "cell_type": "code",
      "source": [
        "col_replace = ['race', 'weight', 'payer_code']\n",
        "\n",
        "for x in col_replace:\n",
        "  df[x].replace('?', np.nan, inplace = True)"
      ],
      "metadata": {
        "id": "vCfuGEGPHmoe"
      },
      "execution_count": null,
      "outputs": []
    },
    {
      "cell_type": "code",
      "source": [
        "df['race'].unique()"
      ],
      "metadata": {
        "colab": {
          "base_uri": "https://localhost:8080/"
        },
        "id": "EnwaAVdxTwp7",
        "outputId": "43594d49-c9a4-4102-aa0f-4f344d9d5d55"
      },
      "execution_count": null,
      "outputs": [
        {
          "output_type": "execute_result",
          "data": {
            "text/plain": [
              "array(['Caucasian', 'AfricanAmerican', nan, 'Other', 'Asian', 'Hispanic'],\n",
              "      dtype=object)"
            ]
          },
          "metadata": {},
          "execution_count": 6
        }
      ]
    },
    {
      "cell_type": "code",
      "source": [
        "df['gender'].replace(\"Unknown/Invalid\", np.nan, inplace = True)"
      ],
      "metadata": {
        "id": "GBsmbF7uTx7d"
      },
      "execution_count": null,
      "outputs": []
    },
    {
      "cell_type": "code",
      "source": [
        "# check the number of null values\n",
        "# for x in col:\n",
        "#   print(x, df[x].isna().sum())"
      ],
      "metadata": {
        "id": "3C0Q0JPtT7X5"
      },
      "execution_count": null,
      "outputs": []
    },
    {
      "cell_type": "markdown",
      "source": [
        "## Grouping categories in categorical columns"
      ],
      "metadata": {
        "id": "tWORKIkdZ7ay"
      }
    },
    {
      "cell_type": "code",
      "source": [
        "# Change dependent variable so it's binary\n",
        "df['readmitted'].replace('>30','NO',inplace = True)\n",
        "df['readmitted'].replace('<30','YES',inplace = True)\n",
        "\n",
        "df['readmitted'].unique()"
      ],
      "metadata": {
        "colab": {
          "base_uri": "https://localhost:8080/"
        },
        "id": "F55fN35OPsHo",
        "outputId": "9f04a7c0-60d5-4d4c-c626-21128675caca"
      },
      "execution_count": null,
      "outputs": [
        {
          "output_type": "execute_result",
          "data": {
            "text/plain": [
              "array(['NO', 'YES'], dtype=object)"
            ]
          },
          "metadata": {},
          "execution_count": 8
        }
      ]
    },
    {
      "cell_type": "markdown",
      "source": [
        "###Grouping Admission Type ID"
      ],
      "metadata": {
        "id": "VpjuSV_2pozh"
      }
    },
    {
      "cell_type": "code",
      "source": [
        "# Grouping Admission Type ID\n",
        "df['admission_type_id'].unique()"
      ],
      "metadata": {
        "colab": {
          "base_uri": "https://localhost:8080/"
        },
        "id": "NRQbou59nwN6",
        "outputId": "c16e23b4-6cfa-4ade-99d0-c414ff7a36ec"
      },
      "execution_count": null,
      "outputs": [
        {
          "output_type": "execute_result",
          "data": {
            "text/plain": [
              "array([nan, '1', '2', '3', '4', '7'], dtype=object)"
            ]
          },
          "metadata": {},
          "execution_count": 9
        }
      ]
    },
    {
      "cell_type": "code",
      "source": [
        "# urgent_care = ['1','2'] # Emergency & Urgent\n",
        "# for i in urgent_care:\n",
        "#   df['admission_type_id'] = np.where(df['admission_type_id'] == i,'urgent_care', df['admission_type_id'])\n",
        "\n",
        "# planned_admissions = ['3','4'] # Elective & Newborn\n",
        "# for i in planned_admissions:\n",
        "#   df['admission_type_id'] = np.where(df['admission_type_id'] == i,'planned_admissions', df['admission_type_id'])\n",
        "\n",
        "# df['admission_type_id'].replace('7','tramua_center',inplace = True)"
      ],
      "metadata": {
        "id": "5MGgTCwCoGlo"
      },
      "execution_count": null,
      "outputs": []
    },
    {
      "cell_type": "code",
      "source": [
        "df['admission_type_id'].unique()"
      ],
      "metadata": {
        "colab": {
          "base_uri": "https://localhost:8080/"
        },
        "id": "vnBdemBMpRW7",
        "outputId": "f6d878bc-bd68-4721-f656-cbe8a39839d4"
      },
      "execution_count": null,
      "outputs": [
        {
          "output_type": "execute_result",
          "data": {
            "text/plain": [
              "array([nan, '1', '2', '3', '4', '7'], dtype=object)"
            ]
          },
          "metadata": {},
          "execution_count": 16
        }
      ]
    },
    {
      "cell_type": "markdown",
      "source": [
        "###Grouping Discharge Disposition"
      ],
      "metadata": {
        "id": "38k3pygUps7Y"
      }
    },
    {
      "cell_type": "code",
      "source": [
        "df['discharge_disposition_id'].unique()"
      ],
      "metadata": {
        "colab": {
          "base_uri": "https://localhost:8080/"
        },
        "id": "tqZ2-kRUpk4m",
        "outputId": "56500aea-fc87-4f1b-cd11-75ba202a867e"
      },
      "execution_count": null,
      "outputs": [
        {
          "output_type": "execute_result",
          "data": {
            "text/plain": [
              "array([nan, '1', '3', '6', '2', '5', '11', '7', '10', '4', '14', '8',\n",
              "       '13', '12', '16', '17', '22', '23', '9', '20', '15', '24', '28',\n",
              "       '19', '27'], dtype=object)"
            ]
          },
          "metadata": {},
          "execution_count": 10
        }
      ]
    },
    {
      "cell_type": "code",
      "source": [
        "home = ['1','6','8']\n",
        "for i in home:\n",
        "  df['discharge_disposition_id'] = np.where(df['discharge_disposition_id'] == i,'home', df['discharge_disposition_id'])\n",
        "\n",
        "hospice = ['13','14','19','20','21']\n",
        "for i in hospice:\n",
        "  df['discharge_disposition_id'] = np.where(df['discharge_disposition_id'] == i,'hospice', df['discharge_disposition_id'])\n",
        "\n",
        "acute_care = ['2','3','4','5','10','28','22','29']\n",
        "for i in acute_care:\n",
        "  df['discharge_disposition_id'] = np.where(df['discharge_disposition_id'] == i,'acute_care', df['discharge_disposition_id'])\n",
        "\n",
        "other_facility = ['9','12','23','24','30','27','16','15','17']\n",
        "for i in other_facility:\n",
        "  df['discharge_disposition_id'] = np.where(df['discharge_disposition_id'] == i,'other_healthcare_facility', df['discharge_disposition_id'])\n",
        "\n",
        "df['discharge_disposition_id'].replace('11','expired',inplace = True)\n",
        "\n",
        "df['discharge_disposition_id'].replace('7','left_AMA',inplace=True)\n",
        "\n",
        "# not documented for null values"
      ],
      "metadata": {
        "id": "RUbFyvxvp-QF"
      },
      "execution_count": null,
      "outputs": []
    },
    {
      "cell_type": "code",
      "source": [
        "df['discharge_disposition_id'].unique()"
      ],
      "metadata": {
        "colab": {
          "base_uri": "https://localhost:8080/"
        },
        "id": "cFnxr3Fk7IAq",
        "outputId": "2eccf588-0960-4e1c-c354-ab75893f41f4"
      },
      "execution_count": null,
      "outputs": [
        {
          "output_type": "execute_result",
          "data": {
            "text/plain": [
              "array([nan, 'home', 'acute_care', 'expired', 'left_AMA', 'hospice',\n",
              "       'other_healthcare_facility'], dtype=object)"
            ]
          },
          "metadata": {},
          "execution_count": 12
        }
      ]
    },
    {
      "cell_type": "markdown",
      "source": [
        "###Group Admission Source ID"
      ],
      "metadata": {
        "id": "ypB-8Sal7LOc"
      }
    },
    {
      "cell_type": "code",
      "source": [
        "df['admission_source_id'].unique()"
      ],
      "metadata": {
        "colab": {
          "base_uri": "https://localhost:8080/"
        },
        "id": "lr_Miq5t7O0h",
        "outputId": "47bea80c-55e6-4263-9b8c-7c65be9ef094"
      },
      "execution_count": null,
      "outputs": [
        {
          "output_type": "execute_result",
          "data": {
            "text/plain": [
              "array(['1', '7', '2', '4', '5', '6', nan, '3', '8', '14', '10', '22',\n",
              "       '11', '25', '13'], dtype=object)"
            ]
          },
          "metadata": {},
          "execution_count": 13
        }
      ]
    },
    {
      "cell_type": "code",
      "source": [
        "childbirth = ['11','12','13','14','23','24']\n",
        "for i in childbirth:\n",
        "  df['admission_source_id'] = np.where(df['admission_source_id'] == i,'childbirth', df['admission_source_id'])\n",
        "\n",
        "\n"
      ],
      "metadata": {
        "id": "r4kbCz9h9RSU"
      },
      "execution_count": null,
      "outputs": []
    },
    {
      "cell_type": "code",
      "source": [
        "df['admission_source_id'].unique()"
      ],
      "metadata": {
        "colab": {
          "base_uri": "https://localhost:8080/"
        },
        "id": "V0IC4TCjIB9G",
        "outputId": "3e337279-61c8-4025-f443-a87f99c49d47"
      },
      "execution_count": null,
      "outputs": [
        {
          "output_type": "execute_result",
          "data": {
            "text/plain": [
              "array(['1', '7', '2', '4', '5', '6', nan, '3', '8', 'childbirth', '10',\n",
              "       '22', '25'], dtype=object)"
            ]
          },
          "metadata": {},
          "execution_count": 15
        }
      ]
    },
    {
      "cell_type": "markdown",
      "source": [
        "###Group Medical Specialities"
      ],
      "metadata": {
        "id": "mWwiJZBc9km4"
      }
    },
    {
      "cell_type": "code",
      "source": [
        "# Grouping Medical Specialities\n",
        "df['medical_specialty'].unique()"
      ],
      "metadata": {
        "colab": {
          "base_uri": "https://localhost:8080/"
        },
        "id": "d6mSKrNOaAZY",
        "outputId": "93588ab5-1410-4d39-e6bd-04e0c51fed9d"
      },
      "execution_count": null,
      "outputs": [
        {
          "output_type": "execute_result",
          "data": {
            "text/plain": [
              "array(['Pediatrics-Endocrinology', nan, 'InternalMedicine',\n",
              "       'Family/GeneralPractice', 'Cardiology', 'Surgery-General',\n",
              "       'Orthopedics', 'Gastroenterology',\n",
              "       'Surgery-Cardiovascular/Thoracic', 'Nephrology',\n",
              "       'Orthopedics-Reconstructive', 'Psychiatry', 'Emergency/Trauma',\n",
              "       'Pulmonology', 'Surgery-Neuro',\n",
              "       'Obsterics&Gynecology-GynecologicOnco', 'ObstetricsandGynecology',\n",
              "       'Pediatrics', 'Hematology/Oncology', 'Otolaryngology',\n",
              "       'Surgery-Colon&Rectal', 'Pediatrics-CriticalCare', 'Endocrinology',\n",
              "       'Urology', 'Psychiatry-Child/Adolescent', 'Pediatrics-Pulmonology',\n",
              "       'Neurology', 'Anesthesiology-Pediatric', 'Radiology',\n",
              "       'Pediatrics-Hematology-Oncology', 'Psychology', 'Podiatry',\n",
              "       'Gynecology', 'Oncology', 'Pediatrics-Neurology',\n",
              "       'Surgery-Plastic', 'Surgery-Thoracic',\n",
              "       'Surgery-PlasticwithinHeadandNeck', 'Ophthalmology',\n",
              "       'Surgery-Pediatric', 'Pediatrics-EmergencyMedicine',\n",
              "       'PhysicalMedicineandRehabilitation', 'InfectiousDiseases',\n",
              "       'Anesthesiology', 'Rheumatology', 'AllergyandImmunology',\n",
              "       'Surgery-Maxillofacial', 'Pediatrics-InfectiousDiseases',\n",
              "       'Pediatrics-AllergyandImmunology', 'Dentistry', 'Surgeon',\n",
              "       'Surgery-Vascular', 'Osteopath', 'Psychiatry-Addictive',\n",
              "       'Surgery-Cardiovascular', 'Hematology', 'Proctology', 'Obstetrics',\n",
              "       'SurgicalSpecialty', 'Radiologist', 'Pathology', 'Dermatology',\n",
              "       'SportsMedicine', 'Speech', 'Hospitalist', 'OutreachServices',\n",
              "       'Cardiology-Pediatric', 'Perinatology', 'Neurophysiology',\n",
              "       'Endocrinology-Metabolism', 'DCPTEAM'], dtype=object)"
            ]
          },
          "metadata": {},
          "execution_count": 16
        }
      ]
    },
    {
      "cell_type": "code",
      "source": [
        "surgery = ['Surgery-General','Surgery-Cardiovascular/Thoracic','Surgery-Neuro','Surgery-Colon&Rectal','Surgery-Plastic','Surgery-Thoracic',\n",
        "'Surgery-PlasticwithinHeadandNeck','Surgery-Pediatric','Surgery-Maxillofacial','Surgeon','Surgery-Vascular','Surgery-Cardiovascular','SurgicalSpecialty']\n",
        "for i in surgery:\n",
        "  df['medical_specialty'] = np.where(df['medical_specialty'] == i,'surgery', df['medical_specialty'])\n",
        "\n",
        "pediatrics = ['Pediatrics-Endocrinology','Pediatrics','Pediatrics-CriticalCare','Psychiatry-Child/Adolescent','Pediatrics-Pulmonology','Pediatrics-Hematology-Oncology',\n",
        "'Pediatrics-Neurology','Pediatrics-EmergencyMedicine','Pediatrics-InfectiousDiseases','Pediatrics-AllergyandImmunology']\n",
        "for i in pediatrics:\n",
        "  df['medical_specialty'] = np.where(df['medical_specialty'] == i,'pediatrics', df['medical_specialty'])\n",
        "\n",
        "orthopedics = ['Orthopedics','Orthopedics-Reconstructive','SportsMedicine']\n",
        "for i in orthopedics:\n",
        "  df['medical_specialty'] = np.where(df['medical_specialty'] == i,'orthopedics', df['medical_specialty'])\n",
        "\n",
        "ob_gyn = ['Obsterics&Gynecology-GynecologicOnco','ObstetricsandGynecology','Gynecology','Obstetrics','Perinatology']\n",
        "for i in ob_gyn:\n",
        "  df['medical_specialty'] = np.where(df['medical_specialty'] == i,'ob_gyn', df['medical_specialty'])\n",
        "\n",
        "psychiatry = ['Psychiatry','Psychiatry-Addictive','Psychiatry-Child/Adolescent','Psychology']\n",
        "for i in psychiatry:\n",
        "  df['medical_specialty'] = np.where(df['medical_specialty'] == i,'psychiatry', df['medical_specialty'])\n",
        "\n",
        "primary_care = ['InternalMedicine','Family/GeneralPractice']\n",
        "for i in primary_care:\n",
        "  df['medical_specialty'] = np.where(df['medical_specialty'] == i,'primary_care', df['medical_specialty'])\n",
        "\n",
        "cardiology = ['Cardiology', 'Cardiology-Pediatric']\n",
        "for i in cardiology:\n",
        "  df['medical_specialty'] = np.where(df['medical_specialty'] == i,'cardiology', df['medical_specialty'])\n",
        "\n",
        "oncology = ['Oncology', 'Hematology/Oncology']\n",
        "for i in oncology:\n",
        "  df['medical_specialty'] = np.where(df['medical_specialty'] == i,'oncology', df['medical_specialty'])\n",
        "\n",
        "endocrinology = ['Endocrinology', 'Endocrinology-Metabolism']\n",
        "for i in endocrinology:\n",
        "  df['medical_specialty'] = np.where(df['medical_specialty'] == i,'endocrinology', df['medical_specialty'])\n",
        "\n",
        "neurology = ['Neurophysiology', 'Neurology']\n",
        "for i in neurology:\n",
        "  df['medical_specialty'] = np.where(df['medical_specialty'] == i,'neurology', df['medical_specialty'])\n",
        "\n",
        "anesthesiology = ['Anesthesiology-Pediatric',  'Anesthesiology']\n",
        "for i in anesthesiology:\n",
        "  df['medical_specialty'] = np.where(df['medical_specialty'] == i,'anesthesiology', df['medical_specialty'])\n",
        "\n",
        "radiology = ['Radiology', 'Radiologist']\n",
        "for i in radiology:\n",
        "  df['medical_specialty'] = np.where(df['medical_specialty'] == i,'radiology', df['medical_specialty'])\n"
      ],
      "metadata": {
        "id": "yv6Okp5_lvDQ"
      },
      "execution_count": null,
      "outputs": []
    },
    {
      "cell_type": "code",
      "source": [
        "df['medical_specialty'].unique()"
      ],
      "metadata": {
        "colab": {
          "base_uri": "https://localhost:8080/"
        },
        "id": "PTcn_m6SYrLf",
        "outputId": "38efff5f-525a-4905-dd36-98021c4ad551"
      },
      "execution_count": null,
      "outputs": [
        {
          "output_type": "execute_result",
          "data": {
            "text/plain": [
              "array(['pediatrics', nan, 'primary_care', 'cardiology', 'surgery',\n",
              "       'orthopedics', 'Gastroenterology', 'Nephrology', 'psychiatry',\n",
              "       'Emergency/Trauma', 'Pulmonology', 'ob_gyn', 'oncology',\n",
              "       'Otolaryngology', 'endocrinology', 'Urology', 'neurology',\n",
              "       'anesthesiology', 'radiology', 'Podiatry', 'Ophthalmology',\n",
              "       'PhysicalMedicineandRehabilitation', 'InfectiousDiseases',\n",
              "       'Rheumatology', 'AllergyandImmunology', 'Dentistry', 'Osteopath',\n",
              "       'Hematology', 'Proctology', 'Pathology', 'Dermatology', 'Speech',\n",
              "       'Hospitalist', 'OutreachServices', 'DCPTEAM'], dtype=object)"
            ]
          },
          "metadata": {},
          "execution_count": 18
        }
      ]
    },
    {
      "cell_type": "markdown",
      "source": [
        "## Convert data dictionary values to original string"
      ],
      "metadata": {
        "id": "GPfyjXRUNHpw"
      }
    },
    {
      "cell_type": "code",
      "source": [
        "admission_type_dict = {\n",
        "    1: 'Emergency',\n",
        "    2: 'Urgent',\n",
        "    3: 'Elective',\n",
        "    4: 'Newborn',\n",
        "    5: 'Not Available',\n",
        "    6: 'NULL',\n",
        "    7: 'Trauma Center',\n",
        "    8: 'Not Mapped'\n",
        "}\n",
        "\n",
        "discharge_dict = {\n",
        "    1: 'Discharged to home',\n",
        "    2: 'Discharged/transferred to another short term hospital',\n",
        "    3: 'Discharged/transferred to SNF',\n",
        "    4: 'Discharged/transferred to ICF',\n",
        "    5: 'Discharged/transferred to another type of inpatient care institution',\n",
        "    6: 'Discharged/transferred to home with home health service',\n",
        "    7: 'Left AMA',\n",
        "    8: 'Discharged/transferred to home under care of Home IV provider',\n",
        "    9: 'Admitted as an inpatient to this hospital',\n",
        "    10: 'Neonate discharged to another hospital for neonatal aftercare',\n",
        "    11: 'Expired',\n",
        "    12: 'Still patient or expected to return for outpatient services',\n",
        "    13: 'Hospice / home',\n",
        "    14: 'Hospice / medical facility',\n",
        "    15: 'Discharged/transferred within this institution to Medicare approved swing bed',\n",
        "    16: 'Discharged/transferred/referred another institution for outpatient services',\n",
        "    17: 'Discharged/transferred/referred to this institution for outpatient services',\n",
        "    18: 'NULL',\n",
        "    19: 'Expired at home. Medicaid only, hospice.',\n",
        "    20: 'Expired in a medical facility. Medicaid only, hospice.',\n",
        "    21: 'Expired, place unknown. Medicaid only, hospice.',\n",
        "    22: 'Discharged/transferred to another rehab fac including rehab units of a hospital .',\n",
        "    23: 'Discharged/transferred to a long term care hospital.',\n",
        "    24: 'Discharged/transferred to a nursing facility certified under Medicaid but not certified under Medicare.',\n",
        "    25: 'Not Mapped',\n",
        "    26: 'Unknown/Invalid',\n",
        "    30: 'Discharged/transferred to another Type of Health Care Institution not Defined Elsewhere',\n",
        "    27: 'Discharged/transferred to a federal health care facility.',\n",
        "    28: 'Discharged/transferred/referred to a psychiatric hospital of psychiatric distinct part unit of a hospital',\n",
        "    29: 'Discharged/transferred to a Critical Access Hospital (CAH).'\n",
        "}\n",
        "\n",
        "admission_source_dict = {\n",
        "    1: 'Physician Referral',\n",
        "    2: 'Clinic Referral',\n",
        "    3: 'HMO Referral',\n",
        "    4: 'Transfer from a hospital',\n",
        "    5: 'Transfer from a Skilled Nursing Facility (SNF)',\n",
        "    6: 'Transfer from another health care facility',\n",
        "    7: 'Emergency Room',\n",
        "    8: 'Court/Law Enforcement',\n",
        "    9: 'Not Available',\n",
        "    10: 'Transfer from critical access hospital',\n",
        "    11: 'Normal Delivery',\n",
        "    12: 'Premature Delivery',\n",
        "    13: 'Sick Baby',\n",
        "    14: 'Extramural Birth',\n",
        "    15: 'Not Available',\n",
        "    17: 'NULL',\n",
        "    18: 'Transfer From Another Home Health Agency',\n",
        "    19: 'Readmission to Same Home Health Agency',\n",
        "    20: 'Not Mapped',\n",
        "    21: 'Unknown/Invalid',\n",
        "    22: 'Transfer from hospital inpt/same fac reslt in a sep claim',\n",
        "    23: 'Born inside this hospital',\n",
        "    24: 'Born outside this hospital',\n",
        "    25: 'Transfer from Ambulatory Surgery Center',\n",
        "    26: 'Transfer from Hospice'\n",
        "}\n",
        "\n",
        "\n",
        "def remap_numeric_cells(df, col_name, mapping_dict):\n",
        "    df[col_name] = df[col_name].astype(str)\n",
        "    numeric_mask = df[col_name].apply(lambda x: x.isnumeric())\n",
        "    df.loc[numeric_mask, col_name] = df.loc[numeric_mask, col_name].astype(int).map(mapping_dict)\n",
        "    df[col_name] = df[col_name].replace('nan', np.nan)\n",
        "\n",
        "remap_numeric_cells(df, 'admission_type_id', admission_type_dict)\n",
        "remap_numeric_cells(df, 'discharge_disposition_id', discharge_dict)\n",
        "remap_numeric_cells(df, 'admission_source_id', admission_source_dict)\n",
        "\n"
      ],
      "metadata": {
        "id": "vtyvwDKakrY7"
      },
      "execution_count": null,
      "outputs": []
    },
    {
      "cell_type": "markdown",
      "source": [
        "## Change diag column"
      ],
      "metadata": {
        "id": "38i3sRvOJij0"
      }
    },
    {
      "cell_type": "code",
      "source": [
        "df['change'] = df['change'].str.replace('Ch', 'change')\n",
        "# Replacing the 'E' values in the 'diag_1', 'diag_2', and 'diag_3' columns to '10' to make conversion to float possible\n",
        "df['diag_1'] = df['diag_1'].astype(str).str.replace('E', '10')\n",
        "df['diag_2'] = df['diag_2'].astype(str).str.replace('E', '10')\n",
        "df['diag_3'] = df['diag_3'].astype(str).str.replace('E', '10')\n",
        "# Replacing the 'E' values in the 'diag_1', 'diag_2', and 'diag_3' columns to '10' to make conversion to float possible\n",
        "df['diag_1'] = df['diag_1'].astype(str).str.replace('V', '20')\n",
        "df['diag_2'] = df['diag_2'].astype(str).str.replace('V', '20')\n",
        "df['diag_3'] = df['diag_3'].astype(str).str.replace('V', '20')\n",
        "# Converting the 'diag_1', 'diag_2', and 'diag_3' columns to float\n",
        "df['diag_1'] = df['diag_1'].apply(lambda x: np.ceil(float(x)) if x != '?' else x)\n",
        "df['diag_2'] = df['diag_2'].apply(lambda x: np.ceil(float(x)) if x != '?' else x)\n",
        "df['diag_3'] = df['diag_3'].apply(lambda x: np.ceil(float(x)) if x != '?' else x)"
      ],
      "metadata": {
        "id": "Hu4joscqJpNA"
      },
      "execution_count": null,
      "outputs": []
    },
    {
      "cell_type": "code",
      "source": [
        "# Defining a dictionary that maps ICD code ranges to their associated descriptions\n",
        "icd_code_ranges = {\n",
        "    range(1, 140): 'INFECTIOUS AND PARASITIC DISEASES',\n",
        "    range(140, 240): 'NEOPLASMS',\n",
        "    range(240, 280): 'ENDOCRINE, NUTRITIONAL AND METABOLIC DISEASES, AND IMMUNITY DISORDERS',\n",
        "    range(280, 290): 'DISEASES OF THE BLOOD AND BLOOD-FORMING ORGANS',\n",
        "    range(290, 320): 'MENTAL, BEHAVIORAL AND NEURODEVELOPMENTAL DISORDERS',\n",
        "    range(320, 390): 'DISEASES OF THE NERVOUS SYSTEM AND SENSE ORGANS',\n",
        "    range(390, 460): 'DISEASES OF THE CIRCULATORY SYSTEM',\n",
        "    range(460, 520): 'DISEASES OF THE RESPIRATORY SYSTEM',\n",
        "    range(520, 580): 'DISEASES OF THE DIGESTIVE SYSTEM',\n",
        "    range(580, 630): 'DISEASES OF THE GENITOURINARY SYSTEM',\n",
        "    range(630, 680): 'COMPLICATIONS OF PREGNANCY, CHILDBIRTH, AND THE PUERPERIUM',\n",
        "    range(680, 710): 'DISEASES OF THE SKIN AND SUBCUTANEOUS TISSUE',\n",
        "    range(710, 740): 'DISEASES OF THE MUSCULOSKELETAL SYSTEM AND CONNECTIVE TISSUE',\n",
        "    range(740, 760): 'CONGENITAL ANOMALIES',\n",
        "    range(760, 780): 'CERTAIN CONDITIONS ORIGINATING IN THE PERINATAL PERIOD',\n",
        "    range(780, 800): 'SYMPTOMS, SIGNS, AND ILL-DEFINED CONDITIONS',\n",
        "    range(800, 1000): 'INJURY AND POISONING',\n",
        "    range(10000, 10999): 'SUPPLEMENTARYCLASSIFICATION OF EXTERNAL CAUSES OF INJURY AND POISONING',\n",
        "    range(2000, 2099): 'SUPPLEMENTARY CLASSIFICATION OF FACTORS INFLUENCING HEALTH STATUS AND CONTACT WITH HEALTH SERVICES',\n",
        "}\n",
        "# Defining a function that converts the values within the 'diag_1', 'diag_2', and 'diag_3' columns to their ICD-9 code descriptions\n",
        "def icd_code_to_description(icd_code):\n",
        "    if icd_code == '?':  # if value is '?', return it unchanged\n",
        "        return icd_code\n",
        "    for code_range, description in icd_code_ranges.items():\n",
        "        if int(icd_code) in code_range:\n",
        "            return description\n",
        "    return 'UNKNOWN'"
      ],
      "metadata": {
        "id": "fX_BGkOJJx62"
      },
      "execution_count": null,
      "outputs": []
    },
    {
      "cell_type": "code",
      "source": [
        "# Applying the icd_code_to_description function to the 'diag_1', 'diag_2', and 'diag_3' columns\n",
        "df['diag_1'] = df['diag_1'].apply(icd_code_to_description)\n",
        "df['diag_2'] = df['diag_2'].apply(icd_code_to_description)\n",
        "df['diag_3'] = df['diag_3'].apply(icd_code_to_description)"
      ],
      "metadata": {
        "id": "oPeGqIgaJ1bY"
      },
      "execution_count": null,
      "outputs": []
    },
    {
      "cell_type": "code",
      "source": [
        "df['diag_1'].replace('?',np.nan,inplace=True)\n",
        "df['diag_2'].replace('?',np.nan,inplace=True)\n",
        "df['diag_3'].replace('?',np.nan,inplace=True)"
      ],
      "metadata": {
        "id": "IeqncZkZMGsm"
      },
      "execution_count": null,
      "outputs": []
    },
    {
      "cell_type": "markdown",
      "source": [
        "## Convert to CSV"
      ],
      "metadata": {
        "id": "M1Wf_FACJp3Z"
      }
    },
    {
      "cell_type": "code",
      "source": [
        "df.head()"
      ],
      "metadata": {
        "id": "Aj2gcZQWLp3F",
        "colab": {
          "base_uri": "https://localhost:8080/",
          "height": 403
        },
        "outputId": "dd9a9d22-f891-47a8-a2b3-36c930221238"
      },
      "execution_count": null,
      "outputs": [
        {
          "output_type": "execute_result",
          "data": {
            "text/plain": [
              "   encounter_id  patient_nbr             race  gender      age weight  \\\n",
              "0       2278392      8222157        Caucasian  Female   [0-10)    NaN   \n",
              "1        149190     55629189        Caucasian  Female  [10-20)    NaN   \n",
              "2         64410     86047875  AfricanAmerican  Female  [20-30)    NaN   \n",
              "3        500364     82442376        Caucasian    Male  [30-40)    NaN   \n",
              "4         16680     42519267        Caucasian    Male  [40-50)    NaN   \n",
              "\n",
              "  admission_type_id discharge_disposition_id admission_source_id  \\\n",
              "0               NaN                      NaN  Physician Referral   \n",
              "1         Emergency                     home      Emergency Room   \n",
              "2         Emergency                     home      Emergency Room   \n",
              "3         Emergency                     home      Emergency Room   \n",
              "4         Emergency                     home      Emergency Room   \n",
              "\n",
              "   time_in_hospital  ... citoglipton insulin  glyburide-metformin  \\\n",
              "0                 1  ...          No      No                   No   \n",
              "1                 3  ...          No      Up                   No   \n",
              "2                 2  ...          No      No                   No   \n",
              "3                 2  ...          No      Up                   No   \n",
              "4                 1  ...          No  Steady                   No   \n",
              "\n",
              "   glipizide-metformin  glimepiride-pioglitazone  metformin-rosiglitazone  \\\n",
              "0                   No                        No                       No   \n",
              "1                   No                        No                       No   \n",
              "2                   No                        No                       No   \n",
              "3                   No                        No                       No   \n",
              "4                   No                        No                       No   \n",
              "\n",
              "   metformin-pioglitazone  change diabetesMed readmitted  \n",
              "0                      No      No          No         NO  \n",
              "1                      No  change         Yes         NO  \n",
              "2                      No      No         Yes         NO  \n",
              "3                      No  change         Yes         NO  \n",
              "4                      No  change         Yes         NO  \n",
              "\n",
              "[5 rows x 50 columns]"
            ],
            "text/html": [
              "\n",
              "  <div id=\"df-d089b5b9-a7f7-4b80-b566-2c5031604b29\">\n",
              "    <div class=\"colab-df-container\">\n",
              "      <div>\n",
              "<style scoped>\n",
              "    .dataframe tbody tr th:only-of-type {\n",
              "        vertical-align: middle;\n",
              "    }\n",
              "\n",
              "    .dataframe tbody tr th {\n",
              "        vertical-align: top;\n",
              "    }\n",
              "\n",
              "    .dataframe thead th {\n",
              "        text-align: right;\n",
              "    }\n",
              "</style>\n",
              "<table border=\"1\" class=\"dataframe\">\n",
              "  <thead>\n",
              "    <tr style=\"text-align: right;\">\n",
              "      <th></th>\n",
              "      <th>encounter_id</th>\n",
              "      <th>patient_nbr</th>\n",
              "      <th>race</th>\n",
              "      <th>gender</th>\n",
              "      <th>age</th>\n",
              "      <th>weight</th>\n",
              "      <th>admission_type_id</th>\n",
              "      <th>discharge_disposition_id</th>\n",
              "      <th>admission_source_id</th>\n",
              "      <th>time_in_hospital</th>\n",
              "      <th>...</th>\n",
              "      <th>citoglipton</th>\n",
              "      <th>insulin</th>\n",
              "      <th>glyburide-metformin</th>\n",
              "      <th>glipizide-metformin</th>\n",
              "      <th>glimepiride-pioglitazone</th>\n",
              "      <th>metformin-rosiglitazone</th>\n",
              "      <th>metformin-pioglitazone</th>\n",
              "      <th>change</th>\n",
              "      <th>diabetesMed</th>\n",
              "      <th>readmitted</th>\n",
              "    </tr>\n",
              "  </thead>\n",
              "  <tbody>\n",
              "    <tr>\n",
              "      <th>0</th>\n",
              "      <td>2278392</td>\n",
              "      <td>8222157</td>\n",
              "      <td>Caucasian</td>\n",
              "      <td>Female</td>\n",
              "      <td>[0-10)</td>\n",
              "      <td>NaN</td>\n",
              "      <td>NaN</td>\n",
              "      <td>NaN</td>\n",
              "      <td>Physician Referral</td>\n",
              "      <td>1</td>\n",
              "      <td>...</td>\n",
              "      <td>No</td>\n",
              "      <td>No</td>\n",
              "      <td>No</td>\n",
              "      <td>No</td>\n",
              "      <td>No</td>\n",
              "      <td>No</td>\n",
              "      <td>No</td>\n",
              "      <td>No</td>\n",
              "      <td>No</td>\n",
              "      <td>NO</td>\n",
              "    </tr>\n",
              "    <tr>\n",
              "      <th>1</th>\n",
              "      <td>149190</td>\n",
              "      <td>55629189</td>\n",
              "      <td>Caucasian</td>\n",
              "      <td>Female</td>\n",
              "      <td>[10-20)</td>\n",
              "      <td>NaN</td>\n",
              "      <td>Emergency</td>\n",
              "      <td>home</td>\n",
              "      <td>Emergency Room</td>\n",
              "      <td>3</td>\n",
              "      <td>...</td>\n",
              "      <td>No</td>\n",
              "      <td>Up</td>\n",
              "      <td>No</td>\n",
              "      <td>No</td>\n",
              "      <td>No</td>\n",
              "      <td>No</td>\n",
              "      <td>No</td>\n",
              "      <td>change</td>\n",
              "      <td>Yes</td>\n",
              "      <td>NO</td>\n",
              "    </tr>\n",
              "    <tr>\n",
              "      <th>2</th>\n",
              "      <td>64410</td>\n",
              "      <td>86047875</td>\n",
              "      <td>AfricanAmerican</td>\n",
              "      <td>Female</td>\n",
              "      <td>[20-30)</td>\n",
              "      <td>NaN</td>\n",
              "      <td>Emergency</td>\n",
              "      <td>home</td>\n",
              "      <td>Emergency Room</td>\n",
              "      <td>2</td>\n",
              "      <td>...</td>\n",
              "      <td>No</td>\n",
              "      <td>No</td>\n",
              "      <td>No</td>\n",
              "      <td>No</td>\n",
              "      <td>No</td>\n",
              "      <td>No</td>\n",
              "      <td>No</td>\n",
              "      <td>No</td>\n",
              "      <td>Yes</td>\n",
              "      <td>NO</td>\n",
              "    </tr>\n",
              "    <tr>\n",
              "      <th>3</th>\n",
              "      <td>500364</td>\n",
              "      <td>82442376</td>\n",
              "      <td>Caucasian</td>\n",
              "      <td>Male</td>\n",
              "      <td>[30-40)</td>\n",
              "      <td>NaN</td>\n",
              "      <td>Emergency</td>\n",
              "      <td>home</td>\n",
              "      <td>Emergency Room</td>\n",
              "      <td>2</td>\n",
              "      <td>...</td>\n",
              "      <td>No</td>\n",
              "      <td>Up</td>\n",
              "      <td>No</td>\n",
              "      <td>No</td>\n",
              "      <td>No</td>\n",
              "      <td>No</td>\n",
              "      <td>No</td>\n",
              "      <td>change</td>\n",
              "      <td>Yes</td>\n",
              "      <td>NO</td>\n",
              "    </tr>\n",
              "    <tr>\n",
              "      <th>4</th>\n",
              "      <td>16680</td>\n",
              "      <td>42519267</td>\n",
              "      <td>Caucasian</td>\n",
              "      <td>Male</td>\n",
              "      <td>[40-50)</td>\n",
              "      <td>NaN</td>\n",
              "      <td>Emergency</td>\n",
              "      <td>home</td>\n",
              "      <td>Emergency Room</td>\n",
              "      <td>1</td>\n",
              "      <td>...</td>\n",
              "      <td>No</td>\n",
              "      <td>Steady</td>\n",
              "      <td>No</td>\n",
              "      <td>No</td>\n",
              "      <td>No</td>\n",
              "      <td>No</td>\n",
              "      <td>No</td>\n",
              "      <td>change</td>\n",
              "      <td>Yes</td>\n",
              "      <td>NO</td>\n",
              "    </tr>\n",
              "  </tbody>\n",
              "</table>\n",
              "<p>5 rows × 50 columns</p>\n",
              "</div>\n",
              "      <button class=\"colab-df-convert\" onclick=\"convertToInteractive('df-d089b5b9-a7f7-4b80-b566-2c5031604b29')\"\n",
              "              title=\"Convert this dataframe to an interactive table.\"\n",
              "              style=\"display:none;\">\n",
              "        \n",
              "  <svg xmlns=\"http://www.w3.org/2000/svg\" height=\"24px\"viewBox=\"0 0 24 24\"\n",
              "       width=\"24px\">\n",
              "    <path d=\"M0 0h24v24H0V0z\" fill=\"none\"/>\n",
              "    <path d=\"M18.56 5.44l.94 2.06.94-2.06 2.06-.94-2.06-.94-.94-2.06-.94 2.06-2.06.94zm-11 1L8.5 8.5l.94-2.06 2.06-.94-2.06-.94L8.5 2.5l-.94 2.06-2.06.94zm10 10l.94 2.06.94-2.06 2.06-.94-2.06-.94-.94-2.06-.94 2.06-2.06.94z\"/><path d=\"M17.41 7.96l-1.37-1.37c-.4-.4-.92-.59-1.43-.59-.52 0-1.04.2-1.43.59L10.3 9.45l-7.72 7.72c-.78.78-.78 2.05 0 2.83L4 21.41c.39.39.9.59 1.41.59.51 0 1.02-.2 1.41-.59l7.78-7.78 2.81-2.81c.8-.78.8-2.07 0-2.86zM5.41 20L4 18.59l7.72-7.72 1.47 1.35L5.41 20z\"/>\n",
              "  </svg>\n",
              "      </button>\n",
              "      \n",
              "  <style>\n",
              "    .colab-df-container {\n",
              "      display:flex;\n",
              "      flex-wrap:wrap;\n",
              "      gap: 12px;\n",
              "    }\n",
              "\n",
              "    .colab-df-convert {\n",
              "      background-color: #E8F0FE;\n",
              "      border: none;\n",
              "      border-radius: 50%;\n",
              "      cursor: pointer;\n",
              "      display: none;\n",
              "      fill: #1967D2;\n",
              "      height: 32px;\n",
              "      padding: 0 0 0 0;\n",
              "      width: 32px;\n",
              "    }\n",
              "\n",
              "    .colab-df-convert:hover {\n",
              "      background-color: #E2EBFA;\n",
              "      box-shadow: 0px 1px 2px rgba(60, 64, 67, 0.3), 0px 1px 3px 1px rgba(60, 64, 67, 0.15);\n",
              "      fill: #174EA6;\n",
              "    }\n",
              "\n",
              "    [theme=dark] .colab-df-convert {\n",
              "      background-color: #3B4455;\n",
              "      fill: #D2E3FC;\n",
              "    }\n",
              "\n",
              "    [theme=dark] .colab-df-convert:hover {\n",
              "      background-color: #434B5C;\n",
              "      box-shadow: 0px 1px 3px 1px rgba(0, 0, 0, 0.15);\n",
              "      filter: drop-shadow(0px 1px 2px rgba(0, 0, 0, 0.3));\n",
              "      fill: #FFFFFF;\n",
              "    }\n",
              "  </style>\n",
              "\n",
              "      <script>\n",
              "        const buttonEl =\n",
              "          document.querySelector('#df-d089b5b9-a7f7-4b80-b566-2c5031604b29 button.colab-df-convert');\n",
              "        buttonEl.style.display =\n",
              "          google.colab.kernel.accessAllowed ? 'block' : 'none';\n",
              "\n",
              "        async function convertToInteractive(key) {\n",
              "          const element = document.querySelector('#df-d089b5b9-a7f7-4b80-b566-2c5031604b29');\n",
              "          const dataTable =\n",
              "            await google.colab.kernel.invokeFunction('convertToInteractive',\n",
              "                                                     [key], {});\n",
              "          if (!dataTable) return;\n",
              "\n",
              "          const docLinkHtml = 'Like what you see? Visit the ' +\n",
              "            '<a target=\"_blank\" href=https://colab.research.google.com/notebooks/data_table.ipynb>data table notebook</a>'\n",
              "            + ' to learn more about interactive tables.';\n",
              "          element.innerHTML = '';\n",
              "          dataTable['output_type'] = 'display_data';\n",
              "          await google.colab.output.renderOutput(dataTable, element);\n",
              "          const docLink = document.createElement('div');\n",
              "          docLink.innerHTML = docLinkHtml;\n",
              "          element.appendChild(docLink);\n",
              "        }\n",
              "      </script>\n",
              "    </div>\n",
              "  </div>\n",
              "  "
            ]
          },
          "metadata": {},
          "execution_count": 31
        }
      ]
    },
    {
      "cell_type": "code",
      "source": [
        "# checking the unique values in each column\n",
        "col = df.columns\n",
        "\n",
        "for x in col:\n",
        "  print(x, df[x].unique())"
      ],
      "metadata": {
        "id": "7C7KZHcDO2mj",
        "colab": {
          "base_uri": "https://localhost:8080/"
        },
        "outputId": "95f43737-5625-4e2e-c66c-8a213c32cf3b"
      },
      "execution_count": null,
      "outputs": [
        {
          "output_type": "stream",
          "name": "stdout",
          "text": [
            "encounter_id [  2278392    149190     64410 ... 443854148 443857166 443867222]\n",
            "patient_nbr [  8222157  55629189  86047875 ... 140199494 120975314 175429310]\n",
            "race ['Caucasian' 'AfricanAmerican' nan 'Other' 'Asian' 'Hispanic']\n",
            "gender ['Female' 'Male' nan]\n",
            "age ['[0-10)' '[10-20)' '[20-30)' '[30-40)' '[40-50)' '[50-60)' '[60-70)'\n",
            " '[70-80)' '[80-90)' '[90-100)']\n",
            "weight [nan '[75-100)' '[50-75)' '[0-25)' '[100-125)' '[25-50)' '[125-150)'\n",
            " '[175-200)' '[150-175)' '>200']\n",
            "admission_type_id [nan 'Emergency' 'Urgent' 'Elective' 'Newborn' 'Trauma Center']\n",
            "discharge_disposition_id [nan 'home' 'acute_care' 'expired' 'left_AMA' 'hospice'\n",
            " 'other_healthcare_facility']\n",
            "admission_source_id ['Physician Referral' 'Emergency Room' 'Clinic Referral'\n",
            " 'Transfer from a hospital'\n",
            " 'Transfer from a Skilled Nursing Facility (SNF)'\n",
            " 'Transfer from another health care facility' nan 'HMO Referral'\n",
            " 'Court/Law Enforcement' 'childbirth'\n",
            " 'Transfer from critical access hospital'\n",
            " 'Transfer from hospital inpt/same fac reslt in a sep claim'\n",
            " 'Transfer from Ambulatory Surgery Center']\n",
            "time_in_hospital [ 1  3  2  4  5 13 12  9  7 10  6 11  8 14]\n",
            "payer_code [nan 'MC' 'MD' 'HM' 'UN' 'BC' 'SP' 'CP' 'SI' 'DM' 'CM' 'CH' 'PO' 'WC' 'OT'\n",
            " 'OG' 'MP' 'FR']\n",
            "medical_specialty ['pediatrics' nan 'primary_care' 'cardiology' 'surgery' 'orthopedics'\n",
            " 'Gastroenterology' 'Nephrology' 'psychiatry' 'Emergency/Trauma'\n",
            " 'Pulmonology' 'ob_gyn' 'oncology' 'Otolaryngology' 'endocrinology'\n",
            " 'Urology' 'neurology' 'anesthesiology' 'radiology' 'Podiatry'\n",
            " 'Ophthalmology' 'PhysicalMedicineandRehabilitation' 'InfectiousDiseases'\n",
            " 'Rheumatology' 'AllergyandImmunology' 'Dentistry' 'Osteopath'\n",
            " 'Hematology' 'Proctology' 'Pathology' 'Dermatology' 'Speech'\n",
            " 'Hospitalist' 'OutreachServices' 'DCPTEAM']\n",
            "num_lab_procedures [ 41  59  11  44  51  31  70  73  68  33  47  62  60  55  49  75  45  29\n",
            "  35  42  66  36  19  64  25  53  52  87  27  37  46  28  48  72  10   2\n",
            "  65  67  40  54  58  57  43  32  83  34  39  69  38  56  22  96  78  61\n",
            "  88  50   1  18  82   9  63  24  71  77  81  76  90  93   3 103  13  80\n",
            "  85  16  15  12  30  23  17  21  79  26   5  95  97  84  14  74 105  86\n",
            "  98  20   6  94   8 102 100   7  89  91  92   4 101  99 114 113 111 129\n",
            " 107 108 106 104 109 120 132 121 126 118]\n",
            "num_procedures [0 5 1 6 2 3 4]\n",
            "num_medications [ 1 18 13 16  8 21 12 28 17 11 15 31  2 23 19  7 20 14 10 22  9 27 25  4\n",
            " 32  6 30 26 24 33  5 39  3 29 61 40 46 41 36 34 35 50 43 42 37 51 38 45\n",
            " 54 52 49 62 55 47 44 53 48 57 59 56 60 63 58 70 67 64 69 65 68 66 81 79\n",
            " 75 72 74]\n",
            "number_outpatient [ 0  2  1  5  7  9  3  8  4 12 11  6 20 15 10 13 14 16 21 35 17 29 36 18\n",
            " 19 27 22 24 42 39 34 26 33 25 23 28 37 38 40]\n",
            "number_emergency [ 0  1  2  4  3  9  5  7  6  8 22 25 10 13 42 16 11 28 15 14 18 12 21 20\n",
            " 19 46 76 37 64 63 54 24 29]\n",
            "number_inpatient [ 0  1  2  3  6  5  4  7  8  9 15 10 11 14 12 13 17 16 21 18 19]\n",
            "diag_1 ['ENDOCRINE, NUTRITIONAL AND METABOLIC DISEASES, AND IMMUNITY DISORDERS'\n",
            " 'COMPLICATIONS OF PREGNANCY, CHILDBIRTH, AND THE PUERPERIUM'\n",
            " 'INFECTIOUS AND PARASITIC DISEASES' 'NEOPLASMS'\n",
            " 'DISEASES OF THE CIRCULATORY SYSTEM' 'DISEASES OF THE RESPIRATORY SYSTEM'\n",
            " 'INJURY AND POISONING' 'DISEASES OF THE SKIN AND SUBCUTANEOUS TISSUE'\n",
            " 'DISEASES OF THE MUSCULOSKELETAL SYSTEM AND CONNECTIVE TISSUE'\n",
            " 'DISEASES OF THE DIGESTIVE SYSTEM'\n",
            " 'SUPPLEMENTARY CLASSIFICATION OF FACTORS INFLUENCING HEALTH STATUS AND CONTACT WITH HEALTH SERVICES'\n",
            " 'SYMPTOMS, SIGNS, AND ILL-DEFINED CONDITIONS'\n",
            " 'DISEASES OF THE GENITOURINARY SYSTEM'\n",
            " 'MENTAL, BEHAVIORAL AND NEURODEVELOPMENTAL DISORDERS'\n",
            " 'DISEASES OF THE NERVOUS SYSTEM AND SENSE ORGANS'\n",
            " 'DISEASES OF THE BLOOD AND BLOOD-FORMING ORGANS' nan\n",
            " 'CONGENITAL ANOMALIES'\n",
            " 'SUPPLEMENTARYCLASSIFICATION OF EXTERNAL CAUSES OF INJURY AND POISONING']\n",
            "diag_2 [nan\n",
            " 'ENDOCRINE, NUTRITIONAL AND METABOLIC DISEASES, AND IMMUNITY DISORDERS'\n",
            " 'NEOPLASMS' 'DISEASES OF THE CIRCULATORY SYSTEM'\n",
            " 'DISEASES OF THE RESPIRATORY SYSTEM'\n",
            " 'DISEASES OF THE BLOOD AND BLOOD-FORMING ORGANS' 'INJURY AND POISONING'\n",
            " 'DISEASES OF THE MUSCULOSKELETAL SYSTEM AND CONNECTIVE TISSUE'\n",
            " 'DISEASES OF THE GENITOURINARY SYSTEM'\n",
            " 'INFECTIOUS AND PARASITIC DISEASES' 'DISEASES OF THE DIGESTIVE SYSTEM'\n",
            " 'DISEASES OF THE SKIN AND SUBCUTANEOUS TISSUE'\n",
            " 'SUPPLEMENTARY CLASSIFICATION OF FACTORS INFLUENCING HEALTH STATUS AND CONTACT WITH HEALTH SERVICES'\n",
            " 'DISEASES OF THE NERVOUS SYSTEM AND SENSE ORGANS'\n",
            " 'SYMPTOMS, SIGNS, AND ILL-DEFINED CONDITIONS'\n",
            " 'MENTAL, BEHAVIORAL AND NEURODEVELOPMENTAL DISORDERS'\n",
            " 'COMPLICATIONS OF PREGNANCY, CHILDBIRTH, AND THE PUERPERIUM'\n",
            " 'CONGENITAL ANOMALIES'\n",
            " 'SUPPLEMENTARYCLASSIFICATION OF EXTERNAL CAUSES OF INJURY AND POISONING']\n",
            "diag_3 [nan\n",
            " 'ENDOCRINE, NUTRITIONAL AND METABOLIC DISEASES, AND IMMUNITY DISORDERS'\n",
            " 'SUPPLEMENTARY CLASSIFICATION OF FACTORS INFLUENCING HEALTH STATUS AND CONTACT WITH HEALTH SERVICES'\n",
            " 'DISEASES OF THE CIRCULATORY SYSTEM' 'INFECTIOUS AND PARASITIC DISEASES'\n",
            " 'DISEASES OF THE RESPIRATORY SYSTEM' 'INJURY AND POISONING' 'NEOPLASMS'\n",
            " 'DISEASES OF THE GENITOURINARY SYSTEM'\n",
            " 'DISEASES OF THE MUSCULOSKELETAL SYSTEM AND CONNECTIVE TISSUE'\n",
            " 'SYMPTOMS, SIGNS, AND ILL-DEFINED CONDITIONS'\n",
            " 'DISEASES OF THE DIGESTIVE SYSTEM'\n",
            " 'DISEASES OF THE SKIN AND SUBCUTANEOUS TISSUE'\n",
            " 'MENTAL, BEHAVIORAL AND NEURODEVELOPMENTAL DISORDERS'\n",
            " 'CONGENITAL ANOMALIES'\n",
            " 'SUPPLEMENTARYCLASSIFICATION OF EXTERNAL CAUSES OF INJURY AND POISONING'\n",
            " 'DISEASES OF THE NERVOUS SYSTEM AND SENSE ORGANS'\n",
            " 'COMPLICATIONS OF PREGNANCY, CHILDBIRTH, AND THE PUERPERIUM'\n",
            " 'DISEASES OF THE BLOOD AND BLOOD-FORMING ORGANS']\n",
            "number_diagnoses [ 1  9  6  7  5  8  3  4  2 16 12 13 15 10 11 14]\n",
            "max_glu_serum ['None' '>300' 'Norm' '>200']\n",
            "A1Cresult ['None' '>7' '>8' 'Norm']\n",
            "metformin ['No' 'Steady' 'Up' 'Down']\n",
            "repaglinide ['No' 'Up' 'Steady' 'Down']\n",
            "nateglinide ['No' 'Steady' 'Down' 'Up']\n",
            "chlorpropamide ['No' 'Steady' 'Down' 'Up']\n",
            "glimepiride ['No' 'Steady' 'Down' 'Up']\n",
            "acetohexamide ['No' 'Steady']\n",
            "glipizide ['No' 'Steady' 'Up' 'Down']\n",
            "glyburide ['No' 'Steady' 'Up' 'Down']\n",
            "tolbutamide ['No' 'Steady']\n",
            "pioglitazone ['No' 'Steady' 'Up' 'Down']\n",
            "rosiglitazone ['No' 'Steady' 'Up' 'Down']\n",
            "acarbose ['No' 'Steady' 'Up' 'Down']\n",
            "miglitol ['No' 'Steady' 'Down' 'Up']\n",
            "troglitazone ['No' 'Steady']\n",
            "tolazamide ['No' 'Steady' 'Up']\n",
            "examide ['No']\n",
            "citoglipton ['No']\n",
            "insulin ['No' 'Up' 'Steady' 'Down']\n",
            "glyburide-metformin ['No' 'Steady' 'Down' 'Up']\n",
            "glipizide-metformin ['No' 'Steady']\n",
            "glimepiride-pioglitazone ['No' 'Steady']\n",
            "metformin-rosiglitazone ['No' 'Steady']\n",
            "metformin-pioglitazone ['No' 'Steady']\n",
            "change ['No' 'change']\n",
            "diabetesMed ['No' 'Yes']\n",
            "readmitted ['NO' 'YES']\n"
          ]
        }
      ]
    },
    {
      "cell_type": "code",
      "source": [
        "df.to_csv('Cleaned.csv')"
      ],
      "metadata": {
        "id": "2WaEK0kpI_Lc"
      },
      "execution_count": null,
      "outputs": []
    },
    {
      "cell_type": "code",
      "source": [
        "df.head()"
      ],
      "metadata": {
        "colab": {
          "base_uri": "https://localhost:8080/",
          "height": 403
        },
        "id": "fCXzJ62I_qA_",
        "outputId": "855e9548-b57f-4199-f249-12d3ba8cfbf8"
      },
      "execution_count": null,
      "outputs": [
        {
          "output_type": "execute_result",
          "data": {
            "text/plain": [
              "   encounter_id  patient_nbr             race  gender      age weight  \\\n",
              "0       2278392      8222157        Caucasian  Female   [0-10)    NaN   \n",
              "1        149190     55629189        Caucasian  Female  [10-20)    NaN   \n",
              "2         64410     86047875  AfricanAmerican  Female  [20-30)    NaN   \n",
              "3        500364     82442376        Caucasian    Male  [30-40)    NaN   \n",
              "4         16680     42519267        Caucasian    Male  [40-50)    NaN   \n",
              "\n",
              "  admission_type_id discharge_disposition_id admission_source_id  \\\n",
              "0               NaN                      NaN  Physician Referral   \n",
              "1         Emergency                     home      Emergency Room   \n",
              "2         Emergency                     home      Emergency Room   \n",
              "3         Emergency                     home      Emergency Room   \n",
              "4         Emergency                     home      Emergency Room   \n",
              "\n",
              "   time_in_hospital  ... citoglipton insulin  glyburide-metformin  \\\n",
              "0                 1  ...          No      No                   No   \n",
              "1                 3  ...          No      Up                   No   \n",
              "2                 2  ...          No      No                   No   \n",
              "3                 2  ...          No      Up                   No   \n",
              "4                 1  ...          No  Steady                   No   \n",
              "\n",
              "   glipizide-metformin  glimepiride-pioglitazone  metformin-rosiglitazone  \\\n",
              "0                   No                        No                       No   \n",
              "1                   No                        No                       No   \n",
              "2                   No                        No                       No   \n",
              "3                   No                        No                       No   \n",
              "4                   No                        No                       No   \n",
              "\n",
              "   metformin-pioglitazone  change diabetesMed readmitted  \n",
              "0                      No      No          No         NO  \n",
              "1                      No  change         Yes         NO  \n",
              "2                      No      No         Yes         NO  \n",
              "3                      No  change         Yes         NO  \n",
              "4                      No  change         Yes         NO  \n",
              "\n",
              "[5 rows x 50 columns]"
            ],
            "text/html": [
              "\n",
              "  <div id=\"df-4dabdf0e-bf87-4624-af54-d4e15e52215a\">\n",
              "    <div class=\"colab-df-container\">\n",
              "      <div>\n",
              "<style scoped>\n",
              "    .dataframe tbody tr th:only-of-type {\n",
              "        vertical-align: middle;\n",
              "    }\n",
              "\n",
              "    .dataframe tbody tr th {\n",
              "        vertical-align: top;\n",
              "    }\n",
              "\n",
              "    .dataframe thead th {\n",
              "        text-align: right;\n",
              "    }\n",
              "</style>\n",
              "<table border=\"1\" class=\"dataframe\">\n",
              "  <thead>\n",
              "    <tr style=\"text-align: right;\">\n",
              "      <th></th>\n",
              "      <th>encounter_id</th>\n",
              "      <th>patient_nbr</th>\n",
              "      <th>race</th>\n",
              "      <th>gender</th>\n",
              "      <th>age</th>\n",
              "      <th>weight</th>\n",
              "      <th>admission_type_id</th>\n",
              "      <th>discharge_disposition_id</th>\n",
              "      <th>admission_source_id</th>\n",
              "      <th>time_in_hospital</th>\n",
              "      <th>...</th>\n",
              "      <th>citoglipton</th>\n",
              "      <th>insulin</th>\n",
              "      <th>glyburide-metformin</th>\n",
              "      <th>glipizide-metformin</th>\n",
              "      <th>glimepiride-pioglitazone</th>\n",
              "      <th>metformin-rosiglitazone</th>\n",
              "      <th>metformin-pioglitazone</th>\n",
              "      <th>change</th>\n",
              "      <th>diabetesMed</th>\n",
              "      <th>readmitted</th>\n",
              "    </tr>\n",
              "  </thead>\n",
              "  <tbody>\n",
              "    <tr>\n",
              "      <th>0</th>\n",
              "      <td>2278392</td>\n",
              "      <td>8222157</td>\n",
              "      <td>Caucasian</td>\n",
              "      <td>Female</td>\n",
              "      <td>[0-10)</td>\n",
              "      <td>NaN</td>\n",
              "      <td>NaN</td>\n",
              "      <td>NaN</td>\n",
              "      <td>Physician Referral</td>\n",
              "      <td>1</td>\n",
              "      <td>...</td>\n",
              "      <td>No</td>\n",
              "      <td>No</td>\n",
              "      <td>No</td>\n",
              "      <td>No</td>\n",
              "      <td>No</td>\n",
              "      <td>No</td>\n",
              "      <td>No</td>\n",
              "      <td>No</td>\n",
              "      <td>No</td>\n",
              "      <td>NO</td>\n",
              "    </tr>\n",
              "    <tr>\n",
              "      <th>1</th>\n",
              "      <td>149190</td>\n",
              "      <td>55629189</td>\n",
              "      <td>Caucasian</td>\n",
              "      <td>Female</td>\n",
              "      <td>[10-20)</td>\n",
              "      <td>NaN</td>\n",
              "      <td>Emergency</td>\n",
              "      <td>home</td>\n",
              "      <td>Emergency Room</td>\n",
              "      <td>3</td>\n",
              "      <td>...</td>\n",
              "      <td>No</td>\n",
              "      <td>Up</td>\n",
              "      <td>No</td>\n",
              "      <td>No</td>\n",
              "      <td>No</td>\n",
              "      <td>No</td>\n",
              "      <td>No</td>\n",
              "      <td>change</td>\n",
              "      <td>Yes</td>\n",
              "      <td>NO</td>\n",
              "    </tr>\n",
              "    <tr>\n",
              "      <th>2</th>\n",
              "      <td>64410</td>\n",
              "      <td>86047875</td>\n",
              "      <td>AfricanAmerican</td>\n",
              "      <td>Female</td>\n",
              "      <td>[20-30)</td>\n",
              "      <td>NaN</td>\n",
              "      <td>Emergency</td>\n",
              "      <td>home</td>\n",
              "      <td>Emergency Room</td>\n",
              "      <td>2</td>\n",
              "      <td>...</td>\n",
              "      <td>No</td>\n",
              "      <td>No</td>\n",
              "      <td>No</td>\n",
              "      <td>No</td>\n",
              "      <td>No</td>\n",
              "      <td>No</td>\n",
              "      <td>No</td>\n",
              "      <td>No</td>\n",
              "      <td>Yes</td>\n",
              "      <td>NO</td>\n",
              "    </tr>\n",
              "    <tr>\n",
              "      <th>3</th>\n",
              "      <td>500364</td>\n",
              "      <td>82442376</td>\n",
              "      <td>Caucasian</td>\n",
              "      <td>Male</td>\n",
              "      <td>[30-40)</td>\n",
              "      <td>NaN</td>\n",
              "      <td>Emergency</td>\n",
              "      <td>home</td>\n",
              "      <td>Emergency Room</td>\n",
              "      <td>2</td>\n",
              "      <td>...</td>\n",
              "      <td>No</td>\n",
              "      <td>Up</td>\n",
              "      <td>No</td>\n",
              "      <td>No</td>\n",
              "      <td>No</td>\n",
              "      <td>No</td>\n",
              "      <td>No</td>\n",
              "      <td>change</td>\n",
              "      <td>Yes</td>\n",
              "      <td>NO</td>\n",
              "    </tr>\n",
              "    <tr>\n",
              "      <th>4</th>\n",
              "      <td>16680</td>\n",
              "      <td>42519267</td>\n",
              "      <td>Caucasian</td>\n",
              "      <td>Male</td>\n",
              "      <td>[40-50)</td>\n",
              "      <td>NaN</td>\n",
              "      <td>Emergency</td>\n",
              "      <td>home</td>\n",
              "      <td>Emergency Room</td>\n",
              "      <td>1</td>\n",
              "      <td>...</td>\n",
              "      <td>No</td>\n",
              "      <td>Steady</td>\n",
              "      <td>No</td>\n",
              "      <td>No</td>\n",
              "      <td>No</td>\n",
              "      <td>No</td>\n",
              "      <td>No</td>\n",
              "      <td>change</td>\n",
              "      <td>Yes</td>\n",
              "      <td>NO</td>\n",
              "    </tr>\n",
              "  </tbody>\n",
              "</table>\n",
              "<p>5 rows × 50 columns</p>\n",
              "</div>\n",
              "      <button class=\"colab-df-convert\" onclick=\"convertToInteractive('df-4dabdf0e-bf87-4624-af54-d4e15e52215a')\"\n",
              "              title=\"Convert this dataframe to an interactive table.\"\n",
              "              style=\"display:none;\">\n",
              "        \n",
              "  <svg xmlns=\"http://www.w3.org/2000/svg\" height=\"24px\"viewBox=\"0 0 24 24\"\n",
              "       width=\"24px\">\n",
              "    <path d=\"M0 0h24v24H0V0z\" fill=\"none\"/>\n",
              "    <path d=\"M18.56 5.44l.94 2.06.94-2.06 2.06-.94-2.06-.94-.94-2.06-.94 2.06-2.06.94zm-11 1L8.5 8.5l.94-2.06 2.06-.94-2.06-.94L8.5 2.5l-.94 2.06-2.06.94zm10 10l.94 2.06.94-2.06 2.06-.94-2.06-.94-.94-2.06-.94 2.06-2.06.94z\"/><path d=\"M17.41 7.96l-1.37-1.37c-.4-.4-.92-.59-1.43-.59-.52 0-1.04.2-1.43.59L10.3 9.45l-7.72 7.72c-.78.78-.78 2.05 0 2.83L4 21.41c.39.39.9.59 1.41.59.51 0 1.02-.2 1.41-.59l7.78-7.78 2.81-2.81c.8-.78.8-2.07 0-2.86zM5.41 20L4 18.59l7.72-7.72 1.47 1.35L5.41 20z\"/>\n",
              "  </svg>\n",
              "      </button>\n",
              "      \n",
              "  <style>\n",
              "    .colab-df-container {\n",
              "      display:flex;\n",
              "      flex-wrap:wrap;\n",
              "      gap: 12px;\n",
              "    }\n",
              "\n",
              "    .colab-df-convert {\n",
              "      background-color: #E8F0FE;\n",
              "      border: none;\n",
              "      border-radius: 50%;\n",
              "      cursor: pointer;\n",
              "      display: none;\n",
              "      fill: #1967D2;\n",
              "      height: 32px;\n",
              "      padding: 0 0 0 0;\n",
              "      width: 32px;\n",
              "    }\n",
              "\n",
              "    .colab-df-convert:hover {\n",
              "      background-color: #E2EBFA;\n",
              "      box-shadow: 0px 1px 2px rgba(60, 64, 67, 0.3), 0px 1px 3px 1px rgba(60, 64, 67, 0.15);\n",
              "      fill: #174EA6;\n",
              "    }\n",
              "\n",
              "    [theme=dark] .colab-df-convert {\n",
              "      background-color: #3B4455;\n",
              "      fill: #D2E3FC;\n",
              "    }\n",
              "\n",
              "    [theme=dark] .colab-df-convert:hover {\n",
              "      background-color: #434B5C;\n",
              "      box-shadow: 0px 1px 3px 1px rgba(0, 0, 0, 0.15);\n",
              "      filter: drop-shadow(0px 1px 2px rgba(0, 0, 0, 0.3));\n",
              "      fill: #FFFFFF;\n",
              "    }\n",
              "  </style>\n",
              "\n",
              "      <script>\n",
              "        const buttonEl =\n",
              "          document.querySelector('#df-4dabdf0e-bf87-4624-af54-d4e15e52215a button.colab-df-convert');\n",
              "        buttonEl.style.display =\n",
              "          google.colab.kernel.accessAllowed ? 'block' : 'none';\n",
              "\n",
              "        async function convertToInteractive(key) {\n",
              "          const element = document.querySelector('#df-4dabdf0e-bf87-4624-af54-d4e15e52215a');\n",
              "          const dataTable =\n",
              "            await google.colab.kernel.invokeFunction('convertToInteractive',\n",
              "                                                     [key], {});\n",
              "          if (!dataTable) return;\n",
              "\n",
              "          const docLinkHtml = 'Like what you see? Visit the ' +\n",
              "            '<a target=\"_blank\" href=https://colab.research.google.com/notebooks/data_table.ipynb>data table notebook</a>'\n",
              "            + ' to learn more about interactive tables.';\n",
              "          element.innerHTML = '';\n",
              "          dataTable['output_type'] = 'display_data';\n",
              "          await google.colab.output.renderOutput(dataTable, element);\n",
              "          const docLink = document.createElement('div');\n",
              "          docLink.innerHTML = docLinkHtml;\n",
              "          element.appendChild(docLink);\n",
              "        }\n",
              "      </script>\n",
              "    </div>\n",
              "  </div>\n",
              "  "
            ]
          },
          "metadata": {},
          "execution_count": 35
        }
      ]
    },
    {
      "cell_type": "markdown",
      "source": [
        "max glucose serum, A1Cresult need to be reformatted (try oversampling)\n"
      ],
      "metadata": {
        "id": "veX7C2SRzMvO"
      }
    }
  ]
}